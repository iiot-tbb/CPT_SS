{
  "nbformat": 4,
  "nbformat_minor": 0,
  "metadata": {
    "accelerator": "GPU",
    "colab": {
      "name": "Baidu千言-文本相似度-Baseline-BERTLinear.ipynb",
      "provenance": [],
      "collapsed_sections": [],
      "toc_visible": true
    },
    "kernelspec": {
      "display_name": "Python 3",
      "language": "python",
      "name": "python3"
    },
    "language_info": {
      "codemirror_mode": {
        "name": "ipython",
        "version": 3
      },
      "file_extension": ".py",
      "mimetype": "text/x-python",
      "name": "python",
      "nbconvert_exporter": "python",
      "pygments_lexer": "ipython3",
      "version": "3.7.6"
    }
  },
  "cells": [
    {
      "cell_type": "code",
      "metadata": {
        "id": "1DXlS3vq5iUL"
      },
      "source": [
        "\"\"\"\r\n",
        "记得每次训练更改新的model name用以分别保存模型参数文件\r\n",
        "可以通过dataset id来选择三个数据集中的一个\r\n",
        "\"\"\"\r\n",
        "\r\n",
        "m_name = 'bertlinear_bbc_z0' # model name, bbc = 'bert-base-chinese\r\n",
        "dsid = 2 # dataset id = ['/bq_corpus','/lcqmc','/paws-x-zh'], 千言文本相似度比赛三个数据集是分开记分的"
      ],
      "execution_count": 1,
      "outputs": []
    },
    {
      "cell_type": "code",
      "metadata": {
        "id": "WSeiAr4AqWFe"
      },
      "source": [
        "debug = 1\n",
        "seed = 218\n",
        "\n",
        "# Model hyperparameter\n",
        "device = 'cuda'\n",
        "bert_model = 'bert-base-chinese' # 'hfl/chinese-roberta-wwm-ext'\n",
        "freeze_bert = False\n",
        "maxlen = 128\n",
        "finetune_units = 768\n",
        "dropout_rate = 0.1\n",
        "\n",
        "#　Train Hyperparameter\n",
        "bs = 16\n",
        "lr = 2e-5 #1e-3 #2e-5\n",
        "if debug:\n",
        "    epochs = 4\n",
        "    num_warmup_steps = 0\n",
        "else:\n",
        "    epochs = 8\n",
        "    num_warmup_steps = 2\n",
        "es_counts_MAX = 3\n",
        "# Postprocess hyperparameter\n",
        "thres = 0.5"
      ],
      "execution_count": 2,
      "outputs": []
    },
    {
      "cell_type": "code",
      "metadata": {
        "colab": {
          "base_uri": "https://localhost:8080/"
        },
        "id": "Ay5oQQtTrel4",
        "outputId": "7bc8c652-ea96-48c7-9f33-a006e06ca6e1"
      },
      "source": [
        "from google.colab import drive\n",
        "drive.mount('/content/drive')"
      ],
      "execution_count": 3,
      "outputs": [
        {
          "output_type": "stream",
          "text": [
            "Drive already mounted at /content/drive; to attempt to forcibly remount, call drive.mount(\"/content/drive\", force_remount=True).\n"
          ],
          "name": "stdout"
        }
      ]
    },
    {
      "cell_type": "code",
      "metadata": {
        "colab": {
          "base_uri": "https://localhost:8080/"
        },
        "id": "mGMGp4N0roaJ",
        "outputId": "57d5bf51-ea96-4f57-81f7-2b2d2df62114"
      },
      "source": [
        "!pip install transformers"
      ],
      "execution_count": 4,
      "outputs": [
        {
          "output_type": "stream",
          "text": [
            "Requirement already satisfied: transformers in /usr/local/lib/python3.7/dist-packages (4.3.3)\n",
            "Requirement already satisfied: tokenizers<0.11,>=0.10.1 in /usr/local/lib/python3.7/dist-packages (from transformers) (0.10.1)\n",
            "Requirement already satisfied: importlib-metadata; python_version < \"3.8\" in /usr/local/lib/python3.7/dist-packages (from transformers) (3.4.0)\n",
            "Requirement already satisfied: tqdm>=4.27 in /usr/local/lib/python3.7/dist-packages (from transformers) (4.41.1)\n",
            "Requirement already satisfied: sacremoses in /usr/local/lib/python3.7/dist-packages (from transformers) (0.0.43)\n",
            "Requirement already satisfied: regex!=2019.12.17 in /usr/local/lib/python3.7/dist-packages (from transformers) (2019.12.20)\n",
            "Requirement already satisfied: requests in /usr/local/lib/python3.7/dist-packages (from transformers) (2.23.0)\n",
            "Requirement already satisfied: numpy>=1.17 in /usr/local/lib/python3.7/dist-packages (from transformers) (1.19.5)\n",
            "Requirement already satisfied: filelock in /usr/local/lib/python3.7/dist-packages (from transformers) (3.0.12)\n",
            "Requirement already satisfied: packaging in /usr/local/lib/python3.7/dist-packages (from transformers) (20.9)\n",
            "Requirement already satisfied: zipp>=0.5 in /usr/local/lib/python3.7/dist-packages (from importlib-metadata; python_version < \"3.8\"->transformers) (3.4.0)\n",
            "Requirement already satisfied: typing-extensions>=3.6.4; python_version < \"3.8\" in /usr/local/lib/python3.7/dist-packages (from importlib-metadata; python_version < \"3.8\"->transformers) (3.7.4.3)\n",
            "Requirement already satisfied: six in /usr/local/lib/python3.7/dist-packages (from sacremoses->transformers) (1.15.0)\n",
            "Requirement already satisfied: click in /usr/local/lib/python3.7/dist-packages (from sacremoses->transformers) (7.1.2)\n",
            "Requirement already satisfied: joblib in /usr/local/lib/python3.7/dist-packages (from sacremoses->transformers) (1.0.1)\n",
            "Requirement already satisfied: chardet<4,>=3.0.2 in /usr/local/lib/python3.7/dist-packages (from requests->transformers) (3.0.4)\n",
            "Requirement already satisfied: certifi>=2017.4.17 in /usr/local/lib/python3.7/dist-packages (from requests->transformers) (2020.12.5)\n",
            "Requirement already satisfied: idna<3,>=2.5 in /usr/local/lib/python3.7/dist-packages (from requests->transformers) (2.10)\n",
            "Requirement already satisfied: urllib3!=1.25.0,!=1.25.1,<1.26,>=1.21.1 in /usr/local/lib/python3.7/dist-packages (from requests->transformers) (1.24.3)\n",
            "Requirement already satisfied: pyparsing>=2.0.2 in /usr/local/lib/python3.7/dist-packages (from packaging->transformers) (2.4.7)\n"
          ],
          "name": "stdout"
        }
      ]
    },
    {
      "cell_type": "code",
      "metadata": {
        "id": "PVEUNv1YqWFf"
      },
      "source": [
        "from scipy.spatial import distance\n",
        "from scipy.spatial.distance import cosine\n",
        "import nltk\n",
        "from scipy.stats import pearsonr\n",
        "\n",
        "import sys\n",
        "import os\n",
        "import numpy as np \n",
        "import pandas as pd\n",
        "import copy\n",
        "import matplotlib.pyplot as plt\n",
        "import random\n",
        "from tqdm import tqdm\n",
        "\n",
        "from sklearn.model_selection import train_test_split\n",
        "from sklearn.metrics import accuracy_score\n",
        "from torch.utils.data import DataLoader, Dataset\n",
        "\n",
        "import torch\n",
        "from torch import nn\n",
        "import transformers\n",
        "from transformers import BertTokenizer, BertModel, AdamW, get_linear_schedule_with_warmup\n",
        "\n",
        "#float16和float32自动混合精度加速计算，官方文档：https://pytorch.org/docs/stable/amp.html\n",
        "from torch.cuda.amp import autocast\n",
        "from torch.cuda.amp import GradScaler"
      ],
      "execution_count": 5,
      "outputs": []
    },
    {
      "cell_type": "code",
      "metadata": {
        "id": "ajTqKw9qqWFf"
      },
      "source": [
        "def set_seed(seed = 42):\n",
        "    torch.manual_seed(seed)\n",
        "    torch.cuda.manual_seed_all(seed)\n",
        "    torch.backends.cudnn.deterministic = True\n",
        "    torch.backends.cudnn.benchmark = False\n",
        "    np.random.seed(seed)\n",
        "    random.seed(seed)\n",
        "    os.environ['PYTHONHASHSEED'] = str(seed)\n",
        "    return seed\n",
        "\n",
        "seed = set_seed(seed)"
      ],
      "execution_count": 6,
      "outputs": []
    },
    {
      "cell_type": "code",
      "metadata": {
        "id": "6weZKnqqBLyp"
      },
      "source": [
        "# PATH Info\r\n",
        "CURR_PATH = os.getcwd()\r\n",
        "ROOT_PATH = CURR_PATH + '/drive/MyDrive/Baidu_Qianyan'"
      ],
      "execution_count": 7,
      "outputs": []
    },
    {
      "cell_type": "code",
      "metadata": {
        "id": "riZKNTNpqWFg",
        "colab": {
          "base_uri": "https://localhost:8080/"
        },
        "outputId": "a0bfb4d2-3aaf-4406-e2c0-aa3058239cc9"
      },
      "source": [
        "def mkdir(path):\n",
        "\tfolder = os.path.exists(path)\n",
        "\tif not folder:                   #判断是否存在文件夹如果不存在则创建为文件夹\n",
        "\t\tos.makedirs(path)            #makedirs 创建文件时如果路径不存在会创建这个路径\n",
        "\t\tprint('---  New Model Folder: {}  ---'.format(m_name))\n",
        " \n",
        "\telse:\n",
        "\t\tprint('---  Model Dir Exsiting!  ---')\n",
        "\n",
        "def read_tsv(input_file):\n",
        "    with open(input_file,\"r\",encoding=\"utf-8\") as file:\n",
        "        lines = []\n",
        "        for line in file:\n",
        "            if len(line.strip().split(\"\\t\")) != 1:\n",
        "                lines.append(line.strip().split(\"\\t\"))\n",
        "        df = pd.DataFrame(lines)\n",
        "    return df\n",
        "\n",
        "DATASET_PATH = ['/bq_corpus','/lcqmc','/paws-x-zh']\n",
        "dataset_path = DATASET_PATH[dsid]\n",
        "ROOT_PATH = '/content/drive/MyDrive/Baidu_Qianyan'\n",
        "DATA_PATH = ['/train.tsv','/dev.tsv','/test.tsv']\n",
        "MODEL_SAVE_PATH = ROOT_PATH + '/model' + dataset_path + '/' + m_name \n",
        "mkdir(MODEL_SAVE_PATH)     \n",
        "\n",
        "train = pd.DataFrame()\n",
        "dev = pd.DataFrame()\n",
        "test = pd.DataFrame()\n",
        "for data_path in DATA_PATH:\n",
        "    PATH = ''.join([ROOT_PATH,dataset_path])\n",
        "    PATH = ''.join([PATH,data_path])\n",
        "    df = read_tsv(PATH)\n",
        "    if data_path == '/train.tsv':\n",
        "        train = pd.concat([train,df],axis = 0)\n",
        "    if data_path == '/dev.tsv':\n",
        "        dev = pd.concat([dev,df],axis = 0)\n",
        "    if data_path == '/test.tsv':\n",
        "        test = pd.concat([test,df],axis = 0)\n",
        "\n",
        "## bq_corpus在20746行的格式有问题，以下方法无法读取\n",
        "# train = pd.DataFrame()\n",
        "# for dataset_path in DATASET_PATH:\n",
        "#     print(dataset_path)\n",
        "#     for data_path in DATA_PATH:\n",
        "#         PATH = ''.join([ROOT_PATH,dataset_path])\n",
        "#         PATH = ''.join([PATH,data_path])\n",
        "#         read_df = pd.read_csv(PATH, header=0, delimiter='\\t')\n",
        "#         train.append(read_df)\n",
        "\n",
        "train[[2]] = train[[2]].astype(int)\n",
        "dev[[2]] = dev[[2]].astype(int)"
      ],
      "execution_count": 8,
      "outputs": [
        {
          "output_type": "stream",
          "text": [
            "---  Model Dir Exsiting!  ---\n"
          ],
          "name": "stdout"
        }
      ]
    },
    {
      "cell_type": "code",
      "metadata": {
        "colab": {
          "base_uri": "https://localhost:8080/"
        },
        "id": "9IR9OBn1qWFh",
        "outputId": "604a18c6-695c-4660-fbd2-ac6122993711"
      },
      "source": [
        "train.info()"
      ],
      "execution_count": 9,
      "outputs": [
        {
          "output_type": "stream",
          "text": [
            "<class 'pandas.core.frame.DataFrame'>\n",
            "RangeIndex: 49129 entries, 0 to 49128\n",
            "Data columns (total 3 columns):\n",
            " #   Column  Non-Null Count  Dtype \n",
            "---  ------  --------------  ----- \n",
            " 0   0       49129 non-null  object\n",
            " 1   1       49129 non-null  object\n",
            " 2   2       49129 non-null  int64 \n",
            "dtypes: int64(1), object(2)\n",
            "memory usage: 1.1+ MB\n"
          ],
          "name": "stdout"
        }
      ]
    },
    {
      "cell_type": "code",
      "metadata": {
        "colab": {
          "base_uri": "https://localhost:8080/",
          "height": 315
        },
        "id": "T3q4rpX3qWFg",
        "outputId": "040d34b3-a8af-40d6-a8ff-535f16378817"
      },
      "source": [
        "train.describe()"
      ],
      "execution_count": 10,
      "outputs": [
        {
          "output_type": "execute_result",
          "data": {
            "text/html": [
              "<div>\n",
              "<style scoped>\n",
              "    .dataframe tbody tr th:only-of-type {\n",
              "        vertical-align: middle;\n",
              "    }\n",
              "\n",
              "    .dataframe tbody tr th {\n",
              "        vertical-align: top;\n",
              "    }\n",
              "\n",
              "    .dataframe thead th {\n",
              "        text-align: right;\n",
              "    }\n",
              "</style>\n",
              "<table border=\"1\" class=\"dataframe\">\n",
              "  <thead>\n",
              "    <tr style=\"text-align: right;\">\n",
              "      <th></th>\n",
              "      <th>2</th>\n",
              "    </tr>\n",
              "  </thead>\n",
              "  <tbody>\n",
              "    <tr>\n",
              "      <th>count</th>\n",
              "      <td>49129.000000</td>\n",
              "    </tr>\n",
              "    <tr>\n",
              "      <th>mean</th>\n",
              "      <td>0.441369</td>\n",
              "    </tr>\n",
              "    <tr>\n",
              "      <th>std</th>\n",
              "      <td>0.496556</td>\n",
              "    </tr>\n",
              "    <tr>\n",
              "      <th>min</th>\n",
              "      <td>0.000000</td>\n",
              "    </tr>\n",
              "    <tr>\n",
              "      <th>25%</th>\n",
              "      <td>0.000000</td>\n",
              "    </tr>\n",
              "    <tr>\n",
              "      <th>50%</th>\n",
              "      <td>0.000000</td>\n",
              "    </tr>\n",
              "    <tr>\n",
              "      <th>75%</th>\n",
              "      <td>1.000000</td>\n",
              "    </tr>\n",
              "    <tr>\n",
              "      <th>max</th>\n",
              "      <td>1.000000</td>\n",
              "    </tr>\n",
              "  </tbody>\n",
              "</table>\n",
              "</div>"
            ],
            "text/plain": [
              "                  2\n",
              "count  49129.000000\n",
              "mean       0.441369\n",
              "std        0.496556\n",
              "min        0.000000\n",
              "25%        0.000000\n",
              "50%        0.000000\n",
              "75%        1.000000\n",
              "max        1.000000"
            ]
          },
          "metadata": {
            "tags": []
          },
          "execution_count": 10
        }
      ]
    },
    {
      "cell_type": "code",
      "metadata": {
        "id": "Rkr43-q3rDw4"
      },
      "source": [
        "cols_dict=['sentence_a', 'sentence_b', 'similarity']\r\n",
        "train.columns = cols_dict\r\n",
        "dev.columns = cols_dict\r\n",
        "test.columns = cols_dict[:2]"
      ],
      "execution_count": 11,
      "outputs": []
    },
    {
      "cell_type": "code",
      "metadata": {
        "colab": {
          "base_uri": "https://localhost:8080/",
          "height": 216
        },
        "id": "HVpo0p5YqWFg",
        "outputId": "cd2c124d-852e-405b-dbbb-bfd56b7505aa"
      },
      "source": [
        "train.head()"
      ],
      "execution_count": 12,
      "outputs": [
        {
          "output_type": "execute_result",
          "data": {
            "text/html": [
              "<div>\n",
              "<style scoped>\n",
              "    .dataframe tbody tr th:only-of-type {\n",
              "        vertical-align: middle;\n",
              "    }\n",
              "\n",
              "    .dataframe tbody tr th {\n",
              "        vertical-align: top;\n",
              "    }\n",
              "\n",
              "    .dataframe thead th {\n",
              "        text-align: right;\n",
              "    }\n",
              "</style>\n",
              "<table border=\"1\" class=\"dataframe\">\n",
              "  <thead>\n",
              "    <tr style=\"text-align: right;\">\n",
              "      <th></th>\n",
              "      <th>sentence_a</th>\n",
              "      <th>sentence_b</th>\n",
              "      <th>similarity</th>\n",
              "    </tr>\n",
              "  </thead>\n",
              "  <tbody>\n",
              "    <tr>\n",
              "      <th>0</th>\n",
              "      <td>1560年10月，他在巴黎秘密会见了英国大使Nicolas Throckmorton，要求他...</td>\n",
              "      <td>1560年10月，他在巴黎秘密会见了英国大使尼古拉斯·斯罗克莫顿，并要求他通过英格兰返回苏格...</td>\n",
              "      <td>0</td>\n",
              "    </tr>\n",
              "    <tr>\n",
              "      <th>1</th>\n",
              "      <td>1975年的NBA赛季 -  76赛季是全美篮球协会的第30个赛季。</td>\n",
              "      <td>1975-76赛季的全国篮球协会是NBA的第30个赛季。</td>\n",
              "      <td>1</td>\n",
              "    </tr>\n",
              "    <tr>\n",
              "      <th>2</th>\n",
              "      <td>还有具体的讨论，公众形象辩论和项目讨论。</td>\n",
              "      <td>还有公开讨论，特定档案讨论和项目讨论。</td>\n",
              "      <td>0</td>\n",
              "    </tr>\n",
              "    <tr>\n",
              "      <th>3</th>\n",
              "      <td>当可以保持相当的流速时，结果很高。</td>\n",
              "      <td>当可以保持可比较的流速时，结果很高。</td>\n",
              "      <td>1</td>\n",
              "    </tr>\n",
              "    <tr>\n",
              "      <th>4</th>\n",
              "      <td>它是Akmola地区Zerendi区的所在地。</td>\n",
              "      <td>它是Akmola地区Zerendi区的所在地。</td>\n",
              "      <td>1</td>\n",
              "    </tr>\n",
              "  </tbody>\n",
              "</table>\n",
              "</div>"
            ],
            "text/plain": [
              "                                          sentence_a  ... similarity\n",
              "0  1560年10月，他在巴黎秘密会见了英国大使Nicolas Throckmorton，要求他...  ...          0\n",
              "1                 1975年的NBA赛季 -  76赛季是全美篮球协会的第30个赛季。  ...          1\n",
              "2                               还有具体的讨论，公众形象辩论和项目讨论。  ...          0\n",
              "3                                  当可以保持相当的流速时，结果很高。  ...          1\n",
              "4                            它是Akmola地区Zerendi区的所在地。  ...          1\n",
              "\n",
              "[5 rows x 3 columns]"
            ]
          },
          "metadata": {
            "tags": []
          },
          "execution_count": 12
        }
      ]
    },
    {
      "cell_type": "code",
      "metadata": {
        "colab": {
          "base_uri": "https://localhost:8080/",
          "height": 315
        },
        "id": "3SsBlNUyFgN2",
        "outputId": "c9aa63fb-b264-4216-fc73-c1496198d7ca"
      },
      "source": [
        "train['len_a']=train['sentence_a'].map(lambda x: len(x))\r\n",
        "train['len_b']=train['sentence_b'].map(lambda x: len(x))\r\n",
        "train.describe()"
      ],
      "execution_count": 13,
      "outputs": [
        {
          "output_type": "execute_result",
          "data": {
            "text/html": [
              "<div>\n",
              "<style scoped>\n",
              "    .dataframe tbody tr th:only-of-type {\n",
              "        vertical-align: middle;\n",
              "    }\n",
              "\n",
              "    .dataframe tbody tr th {\n",
              "        vertical-align: top;\n",
              "    }\n",
              "\n",
              "    .dataframe thead th {\n",
              "        text-align: right;\n",
              "    }\n",
              "</style>\n",
              "<table border=\"1\" class=\"dataframe\">\n",
              "  <thead>\n",
              "    <tr style=\"text-align: right;\">\n",
              "      <th></th>\n",
              "      <th>similarity</th>\n",
              "      <th>len_a</th>\n",
              "      <th>len_b</th>\n",
              "    </tr>\n",
              "  </thead>\n",
              "  <tbody>\n",
              "    <tr>\n",
              "      <th>count</th>\n",
              "      <td>49129.000000</td>\n",
              "      <td>49129.000000</td>\n",
              "      <td>49129.000000</td>\n",
              "    </tr>\n",
              "    <tr>\n",
              "      <th>mean</th>\n",
              "      <td>0.441369</td>\n",
              "      <td>44.659977</td>\n",
              "      <td>44.643469</td>\n",
              "    </tr>\n",
              "    <tr>\n",
              "      <th>std</th>\n",
              "      <td>0.496556</td>\n",
              "      <td>17.926405</td>\n",
              "      <td>17.844421</td>\n",
              "    </tr>\n",
              "    <tr>\n",
              "      <th>min</th>\n",
              "      <td>0.000000</td>\n",
              "      <td>7.000000</td>\n",
              "      <td>3.000000</td>\n",
              "    </tr>\n",
              "    <tr>\n",
              "      <th>25%</th>\n",
              "      <td>0.000000</td>\n",
              "      <td>31.000000</td>\n",
              "      <td>32.000000</td>\n",
              "    </tr>\n",
              "    <tr>\n",
              "      <th>50%</th>\n",
              "      <td>0.000000</td>\n",
              "      <td>42.000000</td>\n",
              "      <td>42.000000</td>\n",
              "    </tr>\n",
              "    <tr>\n",
              "      <th>75%</th>\n",
              "      <td>1.000000</td>\n",
              "      <td>55.000000</td>\n",
              "      <td>55.000000</td>\n",
              "    </tr>\n",
              "    <tr>\n",
              "      <th>max</th>\n",
              "      <td>1.000000</td>\n",
              "      <td>149.000000</td>\n",
              "      <td>149.000000</td>\n",
              "    </tr>\n",
              "  </tbody>\n",
              "</table>\n",
              "</div>"
            ],
            "text/plain": [
              "         similarity         len_a         len_b\n",
              "count  49129.000000  49129.000000  49129.000000\n",
              "mean       0.441369     44.659977     44.643469\n",
              "std        0.496556     17.926405     17.844421\n",
              "min        0.000000      7.000000      3.000000\n",
              "25%        0.000000     31.000000     32.000000\n",
              "50%        0.000000     42.000000     42.000000\n",
              "75%        1.000000     55.000000     55.000000\n",
              "max        1.000000    149.000000    149.000000"
            ]
          },
          "metadata": {
            "tags": []
          },
          "execution_count": 13
        }
      ]
    },
    {
      "cell_type": "code",
      "metadata": {
        "colab": {
          "base_uri": "https://localhost:8080/",
          "height": 235
        },
        "id": "DF2MJ2qSqWFh",
        "outputId": "84f10ef1-8190-4519-c601-9e117b4ed82e"
      },
      "source": [
        "if debug:\n",
        "    df_train = train.iloc[2000:20000,:].reset_index(drop = True)\n",
        "    df_val = train.iloc[:2000,:]\n",
        "else:\n",
        "    df_train = train\n",
        "    df_val = dev\n",
        "df_val.head()"
      ],
      "execution_count": 14,
      "outputs": [
        {
          "output_type": "execute_result",
          "data": {
            "text/html": [
              "<div>\n",
              "<style scoped>\n",
              "    .dataframe tbody tr th:only-of-type {\n",
              "        vertical-align: middle;\n",
              "    }\n",
              "\n",
              "    .dataframe tbody tr th {\n",
              "        vertical-align: top;\n",
              "    }\n",
              "\n",
              "    .dataframe thead th {\n",
              "        text-align: right;\n",
              "    }\n",
              "</style>\n",
              "<table border=\"1\" class=\"dataframe\">\n",
              "  <thead>\n",
              "    <tr style=\"text-align: right;\">\n",
              "      <th></th>\n",
              "      <th>sentence_a</th>\n",
              "      <th>sentence_b</th>\n",
              "      <th>similarity</th>\n",
              "      <th>len_a</th>\n",
              "      <th>len_b</th>\n",
              "    </tr>\n",
              "  </thead>\n",
              "  <tbody>\n",
              "    <tr>\n",
              "      <th>0</th>\n",
              "      <td>1560年10月，他在巴黎秘密会见了英国大使Nicolas Throckmorton，要求他...</td>\n",
              "      <td>1560年10月，他在巴黎秘密会见了英国大使尼古拉斯·斯罗克莫顿，并要求他通过英格兰返回苏格...</td>\n",
              "      <td>0</td>\n",
              "      <td>56</td>\n",
              "      <td>51</td>\n",
              "    </tr>\n",
              "    <tr>\n",
              "      <th>1</th>\n",
              "      <td>1975年的NBA赛季 -  76赛季是全美篮球协会的第30个赛季。</td>\n",
              "      <td>1975-76赛季的全国篮球协会是NBA的第30个赛季。</td>\n",
              "      <td>1</td>\n",
              "      <td>34</td>\n",
              "      <td>28</td>\n",
              "    </tr>\n",
              "    <tr>\n",
              "      <th>2</th>\n",
              "      <td>还有具体的讨论，公众形象辩论和项目讨论。</td>\n",
              "      <td>还有公开讨论，特定档案讨论和项目讨论。</td>\n",
              "      <td>0</td>\n",
              "      <td>20</td>\n",
              "      <td>19</td>\n",
              "    </tr>\n",
              "    <tr>\n",
              "      <th>3</th>\n",
              "      <td>当可以保持相当的流速时，结果很高。</td>\n",
              "      <td>当可以保持可比较的流速时，结果很高。</td>\n",
              "      <td>1</td>\n",
              "      <td>17</td>\n",
              "      <td>18</td>\n",
              "    </tr>\n",
              "    <tr>\n",
              "      <th>4</th>\n",
              "      <td>它是Akmola地区Zerendi区的所在地。</td>\n",
              "      <td>它是Akmola地区Zerendi区的所在地。</td>\n",
              "      <td>1</td>\n",
              "      <td>23</td>\n",
              "      <td>23</td>\n",
              "    </tr>\n",
              "  </tbody>\n",
              "</table>\n",
              "</div>"
            ],
            "text/plain": [
              "                                          sentence_a  ... len_b\n",
              "0  1560年10月，他在巴黎秘密会见了英国大使Nicolas Throckmorton，要求他...  ...    51\n",
              "1                 1975年的NBA赛季 -  76赛季是全美篮球协会的第30个赛季。  ...    28\n",
              "2                               还有具体的讨论，公众形象辩论和项目讨论。  ...    19\n",
              "3                                  当可以保持相当的流速时，结果很高。  ...    18\n",
              "4                            它是Akmola地区Zerendi区的所在地。  ...    23\n",
              "\n",
              "[5 rows x 5 columns]"
            ]
          },
          "metadata": {
            "tags": []
          },
          "execution_count": 14
        }
      ]
    },
    {
      "cell_type": "code",
      "metadata": {
        "colab": {
          "base_uri": "https://localhost:8080/",
          "height": 254
        },
        "id": "2LqQCqKteonu",
        "outputId": "cc34c88b-adfb-4b09-ebf7-8a5407d15164"
      },
      "source": [
        "df_train.head()"
      ],
      "execution_count": 15,
      "outputs": [
        {
          "output_type": "execute_result",
          "data": {
            "text/html": [
              "<div>\n",
              "<style scoped>\n",
              "    .dataframe tbody tr th:only-of-type {\n",
              "        vertical-align: middle;\n",
              "    }\n",
              "\n",
              "    .dataframe tbody tr th {\n",
              "        vertical-align: top;\n",
              "    }\n",
              "\n",
              "    .dataframe thead th {\n",
              "        text-align: right;\n",
              "    }\n",
              "</style>\n",
              "<table border=\"1\" class=\"dataframe\">\n",
              "  <thead>\n",
              "    <tr style=\"text-align: right;\">\n",
              "      <th></th>\n",
              "      <th>sentence_a</th>\n",
              "      <th>sentence_b</th>\n",
              "      <th>similarity</th>\n",
              "      <th>len_a</th>\n",
              "      <th>len_b</th>\n",
              "    </tr>\n",
              "  </thead>\n",
              "  <tbody>\n",
              "    <tr>\n",
              "      <th>0</th>\n",
              "      <td>改变所选择的测定，改变细胞上的选择压力，因此可以改变转化细胞中使用的性质。</td>\n",
              "      <td>如果所选择的测定法变化，则选择性压力在细胞上改变，因此可以改变转化细胞中使用的特性。</td>\n",
              "      <td>1</td>\n",
              "      <td>37</td>\n",
              "      <td>42</td>\n",
              "    </tr>\n",
              "    <tr>\n",
              "      <th>1</th>\n",
              "      <td>办公室搬到德里米尔斯并于1871年2月重新建立，尽管Scio办公室于1871年9月更名。</td>\n",
              "      <td>办公室搬到了德里米尔斯，并于1871年2月重新命名，尽管Scio办公室于1871年9月重建。</td>\n",
              "      <td>0</td>\n",
              "      <td>44</td>\n",
              "      <td>46</td>\n",
              "    </tr>\n",
              "    <tr>\n",
              "      <th>2</th>\n",
              "      <td>1844年，布鲁克林从波士顿吞并成为Pill Hill的一部分。</td>\n",
              "      <td>Pill Hill于1844年成为Brookline的一部分，当时它被波士顿吞并。</td>\n",
              "      <td>0</td>\n",
              "      <td>32</td>\n",
              "      <td>41</td>\n",
              "    </tr>\n",
              "    <tr>\n",
              "      <th>3</th>\n",
              "      <td>它们构成了西河的大部分人口和里奥内格罗河口上方的沃佩斯河上游。</td>\n",
              "      <td>它们构成了Xié河和Vaupés河口上方Rio Negro上游的大部分人口。</td>\n",
              "      <td>0</td>\n",
              "      <td>31</td>\n",
              "      <td>38</td>\n",
              "    </tr>\n",
              "    <tr>\n",
              "      <th>4</th>\n",
              "      <td>可以反转倾斜传感器，以便能够在GBA SP上正确播放。</td>\n",
              "      <td>可以播放倾斜传感器，以便能够在GBA SP上正确地反转它。</td>\n",
              "      <td>0</td>\n",
              "      <td>27</td>\n",
              "      <td>29</td>\n",
              "    </tr>\n",
              "  </tbody>\n",
              "</table>\n",
              "</div>"
            ],
            "text/plain": [
              "                                     sentence_a  ... len_b\n",
              "0         改变所选择的测定，改变细胞上的选择压力，因此可以改变转化细胞中使用的性质。  ...    42\n",
              "1  办公室搬到德里米尔斯并于1871年2月重新建立，尽管Scio办公室于1871年9月更名。  ...    46\n",
              "2              1844年，布鲁克林从波士顿吞并成为Pill Hill的一部分。  ...    41\n",
              "3               它们构成了西河的大部分人口和里奥内格罗河口上方的沃佩斯河上游。  ...    38\n",
              "4                   可以反转倾斜传感器，以便能够在GBA SP上正确播放。  ...    29\n",
              "\n",
              "[5 rows x 5 columns]"
            ]
          },
          "metadata": {
            "tags": []
          },
          "execution_count": 15
        }
      ]
    },
    {
      "cell_type": "code",
      "metadata": {
        "id": "MNmqGnLJqWFh"
      },
      "source": [
        "class LoadDataset(Dataset):\n",
        "    def __init__(self, data, maxlen, with_labels=True, bert_model='bert-base-chinese'):\n",
        "        self.data = data\n",
        "        self.tokenizer = BertTokenizer.from_pretrained(bert_model,output_loading_info = False)  \n",
        "        self.maxlen = maxlen\n",
        "        self.with_labels = with_labels \n",
        "\n",
        "    def __len__(self):\n",
        "        return len(self.data)\n",
        "\n",
        "    def __getitem__(self, index):\n",
        "        # Selecting sentence1 and sentence2 at the specified index in the data frame\n",
        "        sent1 = str(self.data.loc[index,'sentence_a'])\n",
        "        sent2 = str(self.data.loc[index,'sentence_b'])\n",
        "        # Tokenize the pair of sentences to get token ids, attention masks and token type ids\n",
        "        encoded_input1 = self.tokenizer(sent1,sent2, padding='max_length', truncation=True, max_length=self.maxlen, return_tensors='pt')\n",
        "        token_ids1 =  encoded_input1['input_ids'].squeeze(0) \n",
        "        attn_masks1 =  encoded_input1['attention_mask'].squeeze(0)  \n",
        "        token_type_ids1 =  encoded_input1['token_type_ids'].squeeze(0) \n",
        "\n",
        "        if self.with_labels:  # True if the dataset has labels\n",
        "            label = self.data.loc[index, 'similarity']\n",
        "            return token_ids1, attn_masks1, token_type_ids1, label\n",
        "        else:\n",
        "            return token_ids1, attn_masks1, token_type_ids1"
      ],
      "execution_count": 16,
      "outputs": []
    },
    {
      "cell_type": "code",
      "metadata": {
        "id": "zFZkwPDNqWFi"
      },
      "source": [
        "def val_lossF(net, device, criterion, dataloader):\n",
        "    net.eval()\n",
        "    mean_loss = 0\n",
        "    count = 0\n",
        "    true_labelss = []\n",
        "    list_val_outputs = []\n",
        "    val_metric = 0\n",
        "    \n",
        "    with torch.no_grad():\n",
        "        for  i, (token_ids1, attn_masks1, token_type_ids1,labels) in enumerate(dataloader):\n",
        "            token_ids1, attn_masks1, token_type_ids1 = token_ids1.to(device), attn_masks1.to(device), token_type_ids1.to(device)\n",
        "            labels = labels.to(device)\n",
        "            \n",
        "            val_output = net(token_ids1, attn_masks1, token_type_ids1)\n",
        "            mean_loss += criterion(val_output, labels.float()).item()\n",
        "            count += 1\n",
        "\n",
        "            val_outputs = val_output.sigmoid().cpu().numpy()\n",
        "            val_outputs = np.where(val_outputs>thres, 1, 0)\n",
        "            list_val_outputs += val_outputs.tolist()\n",
        "            labelss = labels.cpu().numpy()\n",
        "            true_labelss += labelss.tolist()  \n",
        "        val_metric = accuracy_score(list_val_outputs,true_labelss)       \n",
        "    return mean_loss / count, val_metric"
      ],
      "execution_count": 17,
      "outputs": []
    },
    {
      "cell_type": "code",
      "metadata": {
        "id": "ToUFshaakaYN"
      },
      "source": [
        "class BertLinear(nn.Module):\r\n",
        "    def __init__(self, dropout_rate=0.2, finetune_units=768, bert_model='bert-base-chinese', freeze_bert=False):\r\n",
        "        super(BertLinear, self).__init__()\r\n",
        "        self.bert_layer1 = BertModel.from_pretrained(bert_model,output_loading_info = False)\r\n",
        "        if bert_model == 'bert-base-chinese':\r\n",
        "            self.hidden_size = 768\r\n",
        "        elif bert_model == 'hfl/chinese-roberta-wwm-ext':\r\n",
        "            self.hidden_size = 768\r\n",
        "            \r\n",
        "        if freeze_bert:\r\n",
        "            for p in self.bert_layer.parameters():\r\n",
        "                p.requires_grad = False\r\n",
        "\r\n",
        "        self.dropout0 = nn.Dropout(p=dropout_rate)\r\n",
        "        self.vec_layer = nn.Linear(self.hidden_size,1)\r\n",
        "        # self.cs_layer = nn.Sigmoid()\r\n",
        "        \r\n",
        "    def mean_pooling(self, all_vecs, attention_mask):\r\n",
        "        input_mask_expanded = attention_mask.unsqueeze(-1).expand(all_vecs.size()).float()\r\n",
        "        sum_embeddings = torch.sum(all_vecs * input_mask_expanded, 1)\r\n",
        "        sum_mask = torch.clamp(input_mask_expanded.sum(1), min=1e-9)\r\n",
        "        return sum_embeddings / sum_mask\r\n",
        "\r\n",
        "    @autocast()\r\n",
        "    def forward(self,  token_ids1, attn_masks1, token_type_ids1):\r\n",
        "        vecs1 = self.bert_layer1(token_ids1, attn_masks1, token_type_ids1)\r\n",
        "        #Perform pooling. In this case, mean pooling\r\n",
        "        sent_embed1 = self.mean_pooling(vecs1[0], attn_masks1)\r\n",
        "        x1 = self.dropout0(sent_embed1)\r\n",
        "        x1 = self.vec_layer(x1)\r\n",
        "\r\n",
        "        return x1.squeeze(-1)"
      ],
      "execution_count": 18,
      "outputs": []
    },
    {
      "cell_type": "code",
      "metadata": {
        "colab": {
          "base_uri": "https://localhost:8080/"
        },
        "id": "6OYxoyFxqWFk",
        "outputId": "abe3aeeb-97e8-4a9e-a4a7-ac1f3272aabe"
      },
      "source": [
        "device = torch.device(device if torch.cuda.is_available() else \"cpu\")\n",
        "net = BertLinear(dropout_rate=dropout_rate, finetune_units=finetune_units,bert_model=bert_model,freeze_bert=freeze_bert)\n",
        "net.to(device)"
      ],
      "execution_count": 19,
      "outputs": [
        {
          "output_type": "execute_result",
          "data": {
            "text/plain": [
              "BertLinear(\n",
              "  (bert_layer1): BertModel(\n",
              "    (embeddings): BertEmbeddings(\n",
              "      (word_embeddings): Embedding(21128, 768, padding_idx=0)\n",
              "      (position_embeddings): Embedding(512, 768)\n",
              "      (token_type_embeddings): Embedding(2, 768)\n",
              "      (LayerNorm): LayerNorm((768,), eps=1e-12, elementwise_affine=True)\n",
              "      (dropout): Dropout(p=0.1, inplace=False)\n",
              "    )\n",
              "    (encoder): BertEncoder(\n",
              "      (layer): ModuleList(\n",
              "        (0): BertLayer(\n",
              "          (attention): BertAttention(\n",
              "            (self): BertSelfAttention(\n",
              "              (query): Linear(in_features=768, out_features=768, bias=True)\n",
              "              (key): Linear(in_features=768, out_features=768, bias=True)\n",
              "              (value): Linear(in_features=768, out_features=768, bias=True)\n",
              "              (dropout): Dropout(p=0.1, inplace=False)\n",
              "            )\n",
              "            (output): BertSelfOutput(\n",
              "              (dense): Linear(in_features=768, out_features=768, bias=True)\n",
              "              (LayerNorm): LayerNorm((768,), eps=1e-12, elementwise_affine=True)\n",
              "              (dropout): Dropout(p=0.1, inplace=False)\n",
              "            )\n",
              "          )\n",
              "          (intermediate): BertIntermediate(\n",
              "            (dense): Linear(in_features=768, out_features=3072, bias=True)\n",
              "          )\n",
              "          (output): BertOutput(\n",
              "            (dense): Linear(in_features=3072, out_features=768, bias=True)\n",
              "            (LayerNorm): LayerNorm((768,), eps=1e-12, elementwise_affine=True)\n",
              "            (dropout): Dropout(p=0.1, inplace=False)\n",
              "          )\n",
              "        )\n",
              "        (1): BertLayer(\n",
              "          (attention): BertAttention(\n",
              "            (self): BertSelfAttention(\n",
              "              (query): Linear(in_features=768, out_features=768, bias=True)\n",
              "              (key): Linear(in_features=768, out_features=768, bias=True)\n",
              "              (value): Linear(in_features=768, out_features=768, bias=True)\n",
              "              (dropout): Dropout(p=0.1, inplace=False)\n",
              "            )\n",
              "            (output): BertSelfOutput(\n",
              "              (dense): Linear(in_features=768, out_features=768, bias=True)\n",
              "              (LayerNorm): LayerNorm((768,), eps=1e-12, elementwise_affine=True)\n",
              "              (dropout): Dropout(p=0.1, inplace=False)\n",
              "            )\n",
              "          )\n",
              "          (intermediate): BertIntermediate(\n",
              "            (dense): Linear(in_features=768, out_features=3072, bias=True)\n",
              "          )\n",
              "          (output): BertOutput(\n",
              "            (dense): Linear(in_features=3072, out_features=768, bias=True)\n",
              "            (LayerNorm): LayerNorm((768,), eps=1e-12, elementwise_affine=True)\n",
              "            (dropout): Dropout(p=0.1, inplace=False)\n",
              "          )\n",
              "        )\n",
              "        (2): BertLayer(\n",
              "          (attention): BertAttention(\n",
              "            (self): BertSelfAttention(\n",
              "              (query): Linear(in_features=768, out_features=768, bias=True)\n",
              "              (key): Linear(in_features=768, out_features=768, bias=True)\n",
              "              (value): Linear(in_features=768, out_features=768, bias=True)\n",
              "              (dropout): Dropout(p=0.1, inplace=False)\n",
              "            )\n",
              "            (output): BertSelfOutput(\n",
              "              (dense): Linear(in_features=768, out_features=768, bias=True)\n",
              "              (LayerNorm): LayerNorm((768,), eps=1e-12, elementwise_affine=True)\n",
              "              (dropout): Dropout(p=0.1, inplace=False)\n",
              "            )\n",
              "          )\n",
              "          (intermediate): BertIntermediate(\n",
              "            (dense): Linear(in_features=768, out_features=3072, bias=True)\n",
              "          )\n",
              "          (output): BertOutput(\n",
              "            (dense): Linear(in_features=3072, out_features=768, bias=True)\n",
              "            (LayerNorm): LayerNorm((768,), eps=1e-12, elementwise_affine=True)\n",
              "            (dropout): Dropout(p=0.1, inplace=False)\n",
              "          )\n",
              "        )\n",
              "        (3): BertLayer(\n",
              "          (attention): BertAttention(\n",
              "            (self): BertSelfAttention(\n",
              "              (query): Linear(in_features=768, out_features=768, bias=True)\n",
              "              (key): Linear(in_features=768, out_features=768, bias=True)\n",
              "              (value): Linear(in_features=768, out_features=768, bias=True)\n",
              "              (dropout): Dropout(p=0.1, inplace=False)\n",
              "            )\n",
              "            (output): BertSelfOutput(\n",
              "              (dense): Linear(in_features=768, out_features=768, bias=True)\n",
              "              (LayerNorm): LayerNorm((768,), eps=1e-12, elementwise_affine=True)\n",
              "              (dropout): Dropout(p=0.1, inplace=False)\n",
              "            )\n",
              "          )\n",
              "          (intermediate): BertIntermediate(\n",
              "            (dense): Linear(in_features=768, out_features=3072, bias=True)\n",
              "          )\n",
              "          (output): BertOutput(\n",
              "            (dense): Linear(in_features=3072, out_features=768, bias=True)\n",
              "            (LayerNorm): LayerNorm((768,), eps=1e-12, elementwise_affine=True)\n",
              "            (dropout): Dropout(p=0.1, inplace=False)\n",
              "          )\n",
              "        )\n",
              "        (4): BertLayer(\n",
              "          (attention): BertAttention(\n",
              "            (self): BertSelfAttention(\n",
              "              (query): Linear(in_features=768, out_features=768, bias=True)\n",
              "              (key): Linear(in_features=768, out_features=768, bias=True)\n",
              "              (value): Linear(in_features=768, out_features=768, bias=True)\n",
              "              (dropout): Dropout(p=0.1, inplace=False)\n",
              "            )\n",
              "            (output): BertSelfOutput(\n",
              "              (dense): Linear(in_features=768, out_features=768, bias=True)\n",
              "              (LayerNorm): LayerNorm((768,), eps=1e-12, elementwise_affine=True)\n",
              "              (dropout): Dropout(p=0.1, inplace=False)\n",
              "            )\n",
              "          )\n",
              "          (intermediate): BertIntermediate(\n",
              "            (dense): Linear(in_features=768, out_features=3072, bias=True)\n",
              "          )\n",
              "          (output): BertOutput(\n",
              "            (dense): Linear(in_features=3072, out_features=768, bias=True)\n",
              "            (LayerNorm): LayerNorm((768,), eps=1e-12, elementwise_affine=True)\n",
              "            (dropout): Dropout(p=0.1, inplace=False)\n",
              "          )\n",
              "        )\n",
              "        (5): BertLayer(\n",
              "          (attention): BertAttention(\n",
              "            (self): BertSelfAttention(\n",
              "              (query): Linear(in_features=768, out_features=768, bias=True)\n",
              "              (key): Linear(in_features=768, out_features=768, bias=True)\n",
              "              (value): Linear(in_features=768, out_features=768, bias=True)\n",
              "              (dropout): Dropout(p=0.1, inplace=False)\n",
              "            )\n",
              "            (output): BertSelfOutput(\n",
              "              (dense): Linear(in_features=768, out_features=768, bias=True)\n",
              "              (LayerNorm): LayerNorm((768,), eps=1e-12, elementwise_affine=True)\n",
              "              (dropout): Dropout(p=0.1, inplace=False)\n",
              "            )\n",
              "          )\n",
              "          (intermediate): BertIntermediate(\n",
              "            (dense): Linear(in_features=768, out_features=3072, bias=True)\n",
              "          )\n",
              "          (output): BertOutput(\n",
              "            (dense): Linear(in_features=3072, out_features=768, bias=True)\n",
              "            (LayerNorm): LayerNorm((768,), eps=1e-12, elementwise_affine=True)\n",
              "            (dropout): Dropout(p=0.1, inplace=False)\n",
              "          )\n",
              "        )\n",
              "        (6): BertLayer(\n",
              "          (attention): BertAttention(\n",
              "            (self): BertSelfAttention(\n",
              "              (query): Linear(in_features=768, out_features=768, bias=True)\n",
              "              (key): Linear(in_features=768, out_features=768, bias=True)\n",
              "              (value): Linear(in_features=768, out_features=768, bias=True)\n",
              "              (dropout): Dropout(p=0.1, inplace=False)\n",
              "            )\n",
              "            (output): BertSelfOutput(\n",
              "              (dense): Linear(in_features=768, out_features=768, bias=True)\n",
              "              (LayerNorm): LayerNorm((768,), eps=1e-12, elementwise_affine=True)\n",
              "              (dropout): Dropout(p=0.1, inplace=False)\n",
              "            )\n",
              "          )\n",
              "          (intermediate): BertIntermediate(\n",
              "            (dense): Linear(in_features=768, out_features=3072, bias=True)\n",
              "          )\n",
              "          (output): BertOutput(\n",
              "            (dense): Linear(in_features=3072, out_features=768, bias=True)\n",
              "            (LayerNorm): LayerNorm((768,), eps=1e-12, elementwise_affine=True)\n",
              "            (dropout): Dropout(p=0.1, inplace=False)\n",
              "          )\n",
              "        )\n",
              "        (7): BertLayer(\n",
              "          (attention): BertAttention(\n",
              "            (self): BertSelfAttention(\n",
              "              (query): Linear(in_features=768, out_features=768, bias=True)\n",
              "              (key): Linear(in_features=768, out_features=768, bias=True)\n",
              "              (value): Linear(in_features=768, out_features=768, bias=True)\n",
              "              (dropout): Dropout(p=0.1, inplace=False)\n",
              "            )\n",
              "            (output): BertSelfOutput(\n",
              "              (dense): Linear(in_features=768, out_features=768, bias=True)\n",
              "              (LayerNorm): LayerNorm((768,), eps=1e-12, elementwise_affine=True)\n",
              "              (dropout): Dropout(p=0.1, inplace=False)\n",
              "            )\n",
              "          )\n",
              "          (intermediate): BertIntermediate(\n",
              "            (dense): Linear(in_features=768, out_features=3072, bias=True)\n",
              "          )\n",
              "          (output): BertOutput(\n",
              "            (dense): Linear(in_features=3072, out_features=768, bias=True)\n",
              "            (LayerNorm): LayerNorm((768,), eps=1e-12, elementwise_affine=True)\n",
              "            (dropout): Dropout(p=0.1, inplace=False)\n",
              "          )\n",
              "        )\n",
              "        (8): BertLayer(\n",
              "          (attention): BertAttention(\n",
              "            (self): BertSelfAttention(\n",
              "              (query): Linear(in_features=768, out_features=768, bias=True)\n",
              "              (key): Linear(in_features=768, out_features=768, bias=True)\n",
              "              (value): Linear(in_features=768, out_features=768, bias=True)\n",
              "              (dropout): Dropout(p=0.1, inplace=False)\n",
              "            )\n",
              "            (output): BertSelfOutput(\n",
              "              (dense): Linear(in_features=768, out_features=768, bias=True)\n",
              "              (LayerNorm): LayerNorm((768,), eps=1e-12, elementwise_affine=True)\n",
              "              (dropout): Dropout(p=0.1, inplace=False)\n",
              "            )\n",
              "          )\n",
              "          (intermediate): BertIntermediate(\n",
              "            (dense): Linear(in_features=768, out_features=3072, bias=True)\n",
              "          )\n",
              "          (output): BertOutput(\n",
              "            (dense): Linear(in_features=3072, out_features=768, bias=True)\n",
              "            (LayerNorm): LayerNorm((768,), eps=1e-12, elementwise_affine=True)\n",
              "            (dropout): Dropout(p=0.1, inplace=False)\n",
              "          )\n",
              "        )\n",
              "        (9): BertLayer(\n",
              "          (attention): BertAttention(\n",
              "            (self): BertSelfAttention(\n",
              "              (query): Linear(in_features=768, out_features=768, bias=True)\n",
              "              (key): Linear(in_features=768, out_features=768, bias=True)\n",
              "              (value): Linear(in_features=768, out_features=768, bias=True)\n",
              "              (dropout): Dropout(p=0.1, inplace=False)\n",
              "            )\n",
              "            (output): BertSelfOutput(\n",
              "              (dense): Linear(in_features=768, out_features=768, bias=True)\n",
              "              (LayerNorm): LayerNorm((768,), eps=1e-12, elementwise_affine=True)\n",
              "              (dropout): Dropout(p=0.1, inplace=False)\n",
              "            )\n",
              "          )\n",
              "          (intermediate): BertIntermediate(\n",
              "            (dense): Linear(in_features=768, out_features=3072, bias=True)\n",
              "          )\n",
              "          (output): BertOutput(\n",
              "            (dense): Linear(in_features=3072, out_features=768, bias=True)\n",
              "            (LayerNorm): LayerNorm((768,), eps=1e-12, elementwise_affine=True)\n",
              "            (dropout): Dropout(p=0.1, inplace=False)\n",
              "          )\n",
              "        )\n",
              "        (10): BertLayer(\n",
              "          (attention): BertAttention(\n",
              "            (self): BertSelfAttention(\n",
              "              (query): Linear(in_features=768, out_features=768, bias=True)\n",
              "              (key): Linear(in_features=768, out_features=768, bias=True)\n",
              "              (value): Linear(in_features=768, out_features=768, bias=True)\n",
              "              (dropout): Dropout(p=0.1, inplace=False)\n",
              "            )\n",
              "            (output): BertSelfOutput(\n",
              "              (dense): Linear(in_features=768, out_features=768, bias=True)\n",
              "              (LayerNorm): LayerNorm((768,), eps=1e-12, elementwise_affine=True)\n",
              "              (dropout): Dropout(p=0.1, inplace=False)\n",
              "            )\n",
              "          )\n",
              "          (intermediate): BertIntermediate(\n",
              "            (dense): Linear(in_features=768, out_features=3072, bias=True)\n",
              "          )\n",
              "          (output): BertOutput(\n",
              "            (dense): Linear(in_features=3072, out_features=768, bias=True)\n",
              "            (LayerNorm): LayerNorm((768,), eps=1e-12, elementwise_affine=True)\n",
              "            (dropout): Dropout(p=0.1, inplace=False)\n",
              "          )\n",
              "        )\n",
              "        (11): BertLayer(\n",
              "          (attention): BertAttention(\n",
              "            (self): BertSelfAttention(\n",
              "              (query): Linear(in_features=768, out_features=768, bias=True)\n",
              "              (key): Linear(in_features=768, out_features=768, bias=True)\n",
              "              (value): Linear(in_features=768, out_features=768, bias=True)\n",
              "              (dropout): Dropout(p=0.1, inplace=False)\n",
              "            )\n",
              "            (output): BertSelfOutput(\n",
              "              (dense): Linear(in_features=768, out_features=768, bias=True)\n",
              "              (LayerNorm): LayerNorm((768,), eps=1e-12, elementwise_affine=True)\n",
              "              (dropout): Dropout(p=0.1, inplace=False)\n",
              "            )\n",
              "          )\n",
              "          (intermediate): BertIntermediate(\n",
              "            (dense): Linear(in_features=768, out_features=3072, bias=True)\n",
              "          )\n",
              "          (output): BertOutput(\n",
              "            (dense): Linear(in_features=3072, out_features=768, bias=True)\n",
              "            (LayerNorm): LayerNorm((768,), eps=1e-12, elementwise_affine=True)\n",
              "            (dropout): Dropout(p=0.1, inplace=False)\n",
              "          )\n",
              "        )\n",
              "      )\n",
              "    )\n",
              "    (pooler): BertPooler(\n",
              "      (dense): Linear(in_features=768, out_features=768, bias=True)\n",
              "      (activation): Tanh()\n",
              "    )\n",
              "  )\n",
              "  (dropout0): Dropout(p=0.1, inplace=False)\n",
              "  (vec_layer): Linear(in_features=768, out_features=1, bias=True)\n",
              ")"
            ]
          },
          "metadata": {
            "tags": []
          },
          "execution_count": 19
        }
      ]
    },
    {
      "cell_type": "code",
      "metadata": {
        "colab": {
          "base_uri": "https://localhost:8080/"
        },
        "id": "Akpv2SPRqWFl",
        "outputId": "9b06345b-8976-4189-9804-1ac6ac7df481"
      },
      "source": [
        "train_set = LoadDataset(df_train, maxlen, bert_model)\n",
        "val_set = LoadDataset(df_val, maxlen, bert_model)\n",
        "train_loader = DataLoader(train_set, batch_size=bs)\n",
        "val_loader = DataLoader(val_set, batch_size=bs)\n",
        "\n",
        "#criterion = nn.MSELoss()\n",
        "criterion = nn.BCEWithLogitsLoss()\n",
        "opti = AdamW(net.parameters(), lr=lr, weight_decay=1e-2)\n",
        "num_training_steps = epochs * len(train_loader)  # The total number of training steps\n",
        "lr_scheduler = get_linear_schedule_with_warmup(optimizer=opti, num_warmup_steps=num_warmup_steps, num_training_steps=num_training_steps )\n",
        "scaler = GradScaler()\n",
        "\n",
        "best_loss = np.Inf\n",
        "best_ep = 1\n",
        "iters = []\n",
        "train_losses = []\n",
        "val_losses = []\n",
        "val_metrics = []\n",
        "es_count = 0\n",
        "for ep in range(epochs):\n",
        "    for it, (token_ids1, attn_masks1, token_type_ids1,labels) in tqdm(enumerate(train_loader), total = len(train_loader)):\n",
        "        net.train()\n",
        "        \n",
        "        token_ids1, attn_masks1, token_type_ids1 = token_ids1.to(device), attn_masks1.to(device), token_type_ids1.to(device)\n",
        "        labels = labels.to(device)\n",
        "        opti.zero_grad()\n",
        "        with autocast():\n",
        "            output = net(token_ids1, attn_masks1, token_type_ids1)\n",
        "            loss = criterion(output, labels.float())\n",
        "        scaler.scale(loss).backward()\n",
        "        scaler.step(opti)\n",
        "        scaler.update()      \n",
        "        lr_scheduler.step()\n",
        "        \n",
        "        # if it % 100 == 0:\n",
        "        #     val_loss, val_metric = val_lossF(net, device, criterion, val_loader)  # Compute validation loss\n",
        "        #     print(\"it = {}, train_loss = {}, val_loss = {}, val_metric= {}\".format(it+1,loss,val_loss,val_metric))\n",
        "            \n",
        "    val_loss, val_metric = val_lossF(net, device, criterion, val_loader)  # Compute validation loss  \n",
        "    print(\"Epoch {} complete! Train Loss : {} , Validation Loss : {} , Validation Metric - Accuracy : {} \".format(ep+1, loss, val_loss, val_metric))\n",
        "    train_losses.append(loss)\n",
        "    val_losses.append(val_loss)  \n",
        "    val_metrics.append(val_metric)\n",
        "    if val_loss < best_loss:       \n",
        "        print(\"Best validation loss improved from {} to {}\".format(best_loss, val_loss))\n",
        "        net_copy = copy.deepcopy(net)  # save a copy of the model\n",
        "        best_loss = val_loss\n",
        "        best_ep = ep + 1\n",
        "        path_to_model='ep_{}_val_loss_{}.pt'.format(best_ep, round(best_loss, 4))\n",
        "        torch.save(net_copy.state_dict(), MODEL_SAVE_PATH + '/' + path_to_model)\n",
        "        print(\"The model has been saved in {}\".format(path_to_model))\n",
        "    # else:\n",
        "    #     es_count += 1\n",
        "    \n",
        "    # if early_stop and es_count>es_counts_MAX:\n",
        "    #     print('Early Stop Train in Epoch : {} '.format(ep+1))\n",
        "    #     break\n",
        "\n",
        "del loss\n",
        "torch.cuda.empty_cache()"
      ],
      "execution_count": 20,
      "outputs": [
        {
          "output_type": "stream",
          "text": [
            "100%|██████████| 1125/1125 [03:01<00:00,  6.20it/s]\n"
          ],
          "name": "stderr"
        },
        {
          "output_type": "stream",
          "text": [
            "Epoch 1 complete! Train Loss : 0.5246972441673279 , Validation Loss : 0.4670320301055908 , Validation Metric - Accuracy : 0.766 \n",
            "Best validation loss improved from inf to 0.4670320301055908\n"
          ],
          "name": "stdout"
        },
        {
          "output_type": "stream",
          "text": [
            "\r  0%|          | 0/1125 [00:00<?, ?it/s]"
          ],
          "name": "stderr"
        },
        {
          "output_type": "stream",
          "text": [
            "The model has been saved in ep_1_val_loss_0.467.pt\n"
          ],
          "name": "stdout"
        },
        {
          "output_type": "stream",
          "text": [
            "100%|██████████| 1125/1125 [03:01<00:00,  6.19it/s]\n",
            "  0%|          | 1/1125 [00:00<02:55,  6.40it/s]"
          ],
          "name": "stderr"
        },
        {
          "output_type": "stream",
          "text": [
            "Epoch 2 complete! Train Loss : 0.20122851431369781 , Validation Loss : 0.4844836220741272 , Validation Metric - Accuracy : 0.7815 \n"
          ],
          "name": "stdout"
        },
        {
          "output_type": "stream",
          "text": [
            "100%|██████████| 1125/1125 [03:01<00:00,  6.20it/s]\n",
            "  0%|          | 1/1125 [00:00<02:55,  6.39it/s]"
          ],
          "name": "stderr"
        },
        {
          "output_type": "stream",
          "text": [
            "Epoch 3 complete! Train Loss : 0.25645771622657776 , Validation Loss : 0.5091198494434357 , Validation Metric - Accuracy : 0.7805 \n"
          ],
          "name": "stdout"
        },
        {
          "output_type": "stream",
          "text": [
            "100%|██████████| 1125/1125 [03:01<00:00,  6.20it/s]\n"
          ],
          "name": "stderr"
        },
        {
          "output_type": "stream",
          "text": [
            "Epoch 4 complete! Train Loss : 0.07256873697042465 , Validation Loss : 0.5672451105117798 , Validation Metric - Accuracy : 0.7865 \n"
          ],
          "name": "stdout"
        }
      ]
    },
    {
      "cell_type": "code",
      "metadata": {
        "id": "zOqc1UooqWFl",
        "colab": {
          "base_uri": "https://localhost:8080/",
          "height": 375
        },
        "outputId": "752c23c8-6141-42d8-875a-2764d7ab2e08"
      },
      "source": [
        "p1 = plt.plot(range(epochs),train_losses,'b--',label='train_loss')\n",
        "p2 = plt.plot(range(epochs),val_losses,'r--',label='validation_loss')\n",
        "p3 = plt.plot(range(epochs),val_metrics,'g--',label='validation_metric')\n",
        "plt.plot(range(epochs),train_losses,'bo-',range(epochs),val_losses,'r+-',range(epochs),val_metrics,'g^-')\n",
        "plt.title('Loss')\n",
        "plt.xlabel('epoch')\n",
        "plt.ylabel('loss & metric')\n",
        "plt.legend()\n",
        "plt.show()\n",
        "print('train loss = ', train_losses)\n",
        "print('val loss = ', val_losses)\n",
        "print('val metric = ', val_metrics)\n"
      ],
      "execution_count": 21,
      "outputs": [
        {
          "output_type": "display_data",
          "data": {
            "image/png": "[encoded data removed]",
            "text/plain": [
              "<Figure size 432x288 with 1 Axes>"
            ]
          },
          "metadata": {
            "tags": [],
            "needs_background": "light"
          }
        },
        {
          "output_type": "stream",
          "text": [
            "train loss =  [tensor(0.5247, device='cuda:0', grad_fn=<BinaryCrossEntropyWithLogitsBackward>), tensor(0.2012, device='cuda:0', grad_fn=<BinaryCrossEntropyWithLogitsBackward>), tensor(0.2565, device='cuda:0', grad_fn=<BinaryCrossEntropyWithLogitsBackward>), tensor(0.0726, device='cuda:0', grad_fn=<BinaryCrossEntropyWithLogitsBackward>)]\n",
            "val loss =  [0.4670320301055908, 0.4844836220741272, 0.5091198494434357, 0.5672451105117798]\n",
            "val metric =  [0.766, 0.7815, 0.7805, 0.7865]\n"
          ],
          "name": "stdout"
        }
      ]
    },
    {
      "cell_type": "code",
      "metadata": {
        "id": "H0gMcF6BqWFm",
        "colab": {
          "base_uri": "https://localhost:8080/"
        },
        "outputId": "7327a5db-d76b-4bc4-edf7-a07a5f3b8b18"
      },
      "source": [
        "net = BertLinear(dropout_rate=dropout_rate, finetune_units=finetune_units,bert_model=bert_model)\n",
        "net.load_state_dict(torch.load(MODEL_SAVE_PATH + '/' + path_to_model))\n",
        "net.to(device)\n",
        "\n",
        "test_set = LoadDataset(test, maxlen, with_labels=False, bert_model = bert_model)\n",
        "test_loader = DataLoader(test_set, batch_size=bs)\n",
        "\n",
        "net.eval()\n",
        "results = []\n",
        "with torch.no_grad():\n",
        "    for token_ids1, attn_masks1, token_type_ids1 in tqdm(test_loader):\n",
        "        token_ids1, attn_masks1, token_type_ids1 = token_ids1.to(device), attn_masks1.to(device), token_type_ids1.to(device)\n",
        "        output = net(token_ids1, attn_masks1, token_type_ids1)\n",
        "        output = output.sigmoid().cpu().numpy()\n",
        "        output = np.where(output>thres, 1, 0)\n",
        "        results += output.tolist()\n",
        "\n",
        "test['similarity'] = results"
      ],
      "execution_count": 23,
      "outputs": [
        {
          "output_type": "stream",
          "text": [
            "100%|██████████| 125/125 [00:07<00:00, 17.35it/s]\n"
          ],
          "name": "stderr"
        }
      ]
    },
    {
      "cell_type": "code",
      "metadata": {
        "id": "YtOT6Np9xR6F",
        "colab": {
          "base_uri": "https://localhost:8080/",
          "height": 216
        },
        "outputId": "a8f399bd-f99d-4a4d-8500-e989a34fc5bc"
      },
      "source": [
        "test.to_csv(MODEL_SAVE_PATH+'dataset_path'+'preds.csv')\r\n",
        "test.head()"
      ],
      "execution_count": 24,
      "outputs": [
        {
          "output_type": "execute_result",
          "data": {
            "text/html": [
              "<div>\n",
              "<style scoped>\n",
              "    .dataframe tbody tr th:only-of-type {\n",
              "        vertical-align: middle;\n",
              "    }\n",
              "\n",
              "    .dataframe tbody tr th {\n",
              "        vertical-align: top;\n",
              "    }\n",
              "\n",
              "    .dataframe thead th {\n",
              "        text-align: right;\n",
              "    }\n",
              "</style>\n",
              "<table border=\"1\" class=\"dataframe\">\n",
              "  <thead>\n",
              "    <tr style=\"text-align: right;\">\n",
              "      <th></th>\n",
              "      <th>sentence_a</th>\n",
              "      <th>sentence_b</th>\n",
              "      <th>similarity</th>\n",
              "    </tr>\n",
              "  </thead>\n",
              "  <tbody>\n",
              "    <tr>\n",
              "      <th>0</th>\n",
              "      <td>2005 年末至 2009 年期间是例外，当时他效力于瑞典的卡斯塔德联队、塞尔维亚的查查克足...</td>\n",
              "      <td>例外情况发生于 2005 年末至 2009 年期间，当时他效力于瑞典的卡斯塔德联队、塞尔维亚...</td>\n",
              "      <td>1</td>\n",
              "    </tr>\n",
              "    <tr>\n",
              "      <th>1</th>\n",
              "      <td>Tabaci 河是罗马尼亚 Leurda 河的支流。</td>\n",
              "      <td>Leurda 河是罗马尼亚境内 Tabaci 河的一条支流。</td>\n",
              "      <td>1</td>\n",
              "    </tr>\n",
              "    <tr>\n",
              "      <th>2</th>\n",
              "      <td>1993 年，他为 A 级的坎恩郡美洲狮队和 AA 级的波特兰海狗队效力。</td>\n",
              "      <td>1993 年，他为 A 级球队波特兰海狗队和 AA 级球队凯恩县美洲狮队效力。</td>\n",
              "      <td>0</td>\n",
              "    </tr>\n",
              "    <tr>\n",
              "      <th>3</th>\n",
              "      <td>Winarsky 是 IEEE、Phi Beta Kappa、ACM 和 Sigma Xi ...</td>\n",
              "      <td>温那斯基是 ACM、IEEE、Phi Beta Kappa 和 Sigma Xi 的成员。</td>\n",
              "      <td>1</td>\n",
              "    </tr>\n",
              "    <tr>\n",
              "      <th>4</th>\n",
              "      <td>1938 年，他成为英埃苏丹的政府人类学家，并领导对努巴的实地考察工作。</td>\n",
              "      <td>1938 年，他成为英埃苏丹政府的人类学家，并与努巴一起从事野外工作。</td>\n",
              "      <td>1</td>\n",
              "    </tr>\n",
              "  </tbody>\n",
              "</table>\n",
              "</div>"
            ],
            "text/plain": [
              "                                          sentence_a  ... similarity\n",
              "0  2005 年末至 2009 年期间是例外，当时他效力于瑞典的卡斯塔德联队、塞尔维亚的查查克足...  ...          1\n",
              "1                         Tabaci 河是罗马尼亚 Leurda 河的支流。  ...          1\n",
              "2              1993 年，他为 A 级的坎恩郡美洲狮队和 AA 级的波特兰海狗队效力。  ...          0\n",
              "3  Winarsky 是 IEEE、Phi Beta Kappa、ACM 和 Sigma Xi ...  ...          1\n",
              "4               1938 年，他成为英埃苏丹的政府人类学家，并领导对努巴的实地考察工作。  ...          1\n",
              "\n",
              "[5 rows x 3 columns]"
            ]
          },
          "metadata": {
            "tags": []
          },
          "execution_count": 24
        }
      ]
    }
  ]
}