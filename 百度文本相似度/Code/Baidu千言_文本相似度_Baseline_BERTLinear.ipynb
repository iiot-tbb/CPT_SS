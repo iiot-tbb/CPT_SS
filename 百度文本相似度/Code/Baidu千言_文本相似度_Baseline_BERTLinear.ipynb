{
 "cells": [
  {
   "cell_type": "code",
   "execution_count": 98,
   "metadata": {
    "id": "1DXlS3vq5iUL"
   },
   "outputs": [],
   "source": [
    "\"\"\"\n",
    "记得每次训练更改新的model name用以分别保存模型参数文件\n",
    "可以通过dataset id来选择三个数据集中的一个\n",
    "\"\"\"\n",
    "\n",
    "m_name = 'bertlinear_bbc_z0' # model name, bbc = 'bert-base-chinese\n",
    "dsid = 2 # dataset id = ['/bq_corpus','/lcqmc','/paws-x-zh'], 千言文本相似度比赛三个数据集是分开记分的"
   ]
  },
  {
   "cell_type": "code",
   "execution_count": 99,
   "metadata": {
    "id": "WSeiAr4AqWFe"
   },
   "outputs": [],
   "source": [
    "debug = 1\n",
    "seed = 218\n",
    "\n",
    "# Model hyperparameter\n",
    "device = 'cuda'\n",
    "bert_model = 'bert-base-chinese' # 'hfl/chinese-roberta-wwm-ext'\n",
    "freeze_bert = False\n",
    "maxlen = 128\n",
    "finetune_units = 768\n",
    "dropout_rate = 0.1\n",
    "\n",
    "#　Train Hyperparameter\n",
    "bs = 200\n",
    "lr = 2e-5 #1e-3 #2e-5\n",
    "if debug:\n",
    "    epochs = 4\n",
    "    num_warmup_steps = 0\n",
    "else:\n",
    "    epochs = 8\n",
    "    num_warmup_steps = 2\n",
    "es_counts_MAX = 3\n",
    "# Postprocess hyperparameter\n",
    "thres = 0.5"
   ]
  },
  {
   "cell_type": "code",
   "execution_count": 3,
   "metadata": {
    "colab": {
     "base_uri": "https://localhost:8080/"
    },
    "id": "Ay5oQQtTrel4",
    "outputId": "7bc8c652-ea96-48c7-9f33-a006e06ca6e1"
   },
   "outputs": [
    {
     "ename": "ModuleNotFoundError",
     "evalue": "No module named 'google'",
     "output_type": "error",
     "traceback": [
      "\u001b[0;31m---------------------------------------------------------------------------\u001b[0m",
      "\u001b[0;31mModuleNotFoundError\u001b[0m                       Traceback (most recent call last)",
      "\u001b[0;32m<ipython-input-3-d5df0069828e>\u001b[0m in \u001b[0;36m<module>\u001b[0;34m\u001b[0m\n\u001b[0;32m----> 1\u001b[0;31m \u001b[0;32mfrom\u001b[0m \u001b[0mgoogle\u001b[0m\u001b[0;34m.\u001b[0m\u001b[0mcolab\u001b[0m \u001b[0;32mimport\u001b[0m \u001b[0mdrive\u001b[0m\u001b[0;34m\u001b[0m\u001b[0;34m\u001b[0m\u001b[0m\n\u001b[0m\u001b[1;32m      2\u001b[0m \u001b[0mdrive\u001b[0m\u001b[0;34m.\u001b[0m\u001b[0mmount\u001b[0m\u001b[0;34m(\u001b[0m\u001b[0;34m'/content/drive'\u001b[0m\u001b[0;34m)\u001b[0m\u001b[0;34m\u001b[0m\u001b[0;34m\u001b[0m\u001b[0m\n",
      "\u001b[0;31mModuleNotFoundError\u001b[0m: No module named 'google'"
     ]
    }
   ],
   "source": [
    "from google.colab import drive\n",
    "drive.mount('/content/drive')"
   ]
  },
  {
   "cell_type": "code",
   "execution_count": 4,
   "metadata": {
    "colab": {
     "base_uri": "https://localhost:8080/"
    },
    "id": "mGMGp4N0roaJ",
    "outputId": "57d5bf51-ea96-4f57-81f7-2b2d2df62114"
   },
   "outputs": [
    {
     "name": "stdout",
     "output_type": "stream",
     "text": [
      "Requirement already satisfied: transformers in /usr/local/lib/python3.7/dist-packages (4.3.3)\n",
      "Requirement already satisfied: tokenizers<0.11,>=0.10.1 in /usr/local/lib/python3.7/dist-packages (from transformers) (0.10.1)\n",
      "Requirement already satisfied: importlib-metadata; python_version < \"3.8\" in /usr/local/lib/python3.7/dist-packages (from transformers) (3.4.0)\n",
      "Requirement already satisfied: tqdm>=4.27 in /usr/local/lib/python3.7/dist-packages (from transformers) (4.41.1)\n",
      "Requirement already satisfied: sacremoses in /usr/local/lib/python3.7/dist-packages (from transformers) (0.0.43)\n",
      "Requirement already satisfied: regex!=2019.12.17 in /usr/local/lib/python3.7/dist-packages (from transformers) (2019.12.20)\n",
      "Requirement already satisfied: requests in /usr/local/lib/python3.7/dist-packages (from transformers) (2.23.0)\n",
      "Requirement already satisfied: numpy>=1.17 in /usr/local/lib/python3.7/dist-packages (from transformers) (1.19.5)\n",
      "Requirement already satisfied: filelock in /usr/local/lib/python3.7/dist-packages (from transformers) (3.0.12)\n",
      "Requirement already satisfied: packaging in /usr/local/lib/python3.7/dist-packages (from transformers) (20.9)\n",
      "Requirement already satisfied: zipp>=0.5 in /usr/local/lib/python3.7/dist-packages (from importlib-metadata; python_version < \"3.8\"->transformers) (3.4.0)\n",
      "Requirement already satisfied: typing-extensions>=3.6.4; python_version < \"3.8\" in /usr/local/lib/python3.7/dist-packages (from importlib-metadata; python_version < \"3.8\"->transformers) (3.7.4.3)\n",
      "Requirement already satisfied: six in /usr/local/lib/python3.7/dist-packages (from sacremoses->transformers) (1.15.0)\n",
      "Requirement already satisfied: click in /usr/local/lib/python3.7/dist-packages (from sacremoses->transformers) (7.1.2)\n",
      "Requirement already satisfied: joblib in /usr/local/lib/python3.7/dist-packages (from sacremoses->transformers) (1.0.1)\n",
      "Requirement already satisfied: chardet<4,>=3.0.2 in /usr/local/lib/python3.7/dist-packages (from requests->transformers) (3.0.4)\n",
      "Requirement already satisfied: certifi>=2017.4.17 in /usr/local/lib/python3.7/dist-packages (from requests->transformers) (2020.12.5)\n",
      "Requirement already satisfied: idna<3,>=2.5 in /usr/local/lib/python3.7/dist-packages (from requests->transformers) (2.10)\n",
      "Requirement already satisfied: urllib3!=1.25.0,!=1.25.1,<1.26,>=1.21.1 in /usr/local/lib/python3.7/dist-packages (from requests->transformers) (1.24.3)\n",
      "Requirement already satisfied: pyparsing>=2.0.2 in /usr/local/lib/python3.7/dist-packages (from packaging->transformers) (2.4.7)\n"
     ]
    }
   ],
   "source": [
    "!pip install transformers"
   ]
  },
  {
   "cell_type": "code",
   "execution_count": 100,
   "metadata": {
    "id": "PVEUNv1YqWFf"
   },
   "outputs": [],
   "source": [
    "from scipy.spatial import distance\n",
    "from scipy.spatial.distance import cosine\n",
    "import nltk\n",
    "from scipy.stats import pearsonr\n",
    "\n",
    "import sys\n",
    "import os\n",
    "import numpy as np \n",
    "import pandas as pd\n",
    "import copy\n",
    "import matplotlib.pyplot as plt\n",
    "import random\n",
    "from tqdm import tqdm\n",
    "\n",
    "from sklearn.model_selection import train_test_split\n",
    "from sklearn.metrics import accuracy_score\n",
    "from torch.utils.data import DataLoader, Dataset\n",
    "\n",
    "import torch\n",
    "from torch import nn\n",
    "import transformers\n",
    "from transformers import BertTokenizer, BertModel, AdamW, get_linear_schedule_with_warmup\n",
    "\n",
    "#float16和float32自动混合精度加速计算，官方文档：https://pytorch.org/docs/stable/amp.html\n",
    "from torch.cuda.amp import autocast\n",
    "from torch.cuda.amp import GradScaler"
   ]
  },
  {
   "cell_type": "code",
   "execution_count": 12,
   "metadata": {},
   "outputs": [
    {
     "name": "stdout",
     "output_type": "stream",
     "text": [
      "Collecting sklearn\n",
      "  Using cached sklearn-0.0.tar.gz (1.1 kB)\n",
      "Collecting scikit-learn\n",
      "  Downloading scikit_learn-0.24.1-cp38-cp38-manylinux2010_x86_64.whl (24.9 MB)\n",
      "\u001b[K     |████████████████████████████████| 24.9 MB 19.5 MB/s eta 0:00:01\n",
      "\u001b[?25hCollecting threadpoolctl>=2.0.0\n",
      "  Using cached threadpoolctl-2.1.0-py3-none-any.whl (12 kB)\n",
      "Requirement already satisfied: numpy>=1.13.3 in /home/bool_tbb/miniconda3/envs/transforem_new/lib/python3.8/site-packages (from scikit-learn->sklearn) (1.19.2)\n",
      "Requirement already satisfied: scipy>=0.19.1 in /home/bool_tbb/miniconda3/envs/transforem_new/lib/python3.8/site-packages (from scikit-learn->sklearn) (1.6.1)\n",
      "Requirement already satisfied: joblib>=0.11 in /home/bool_tbb/miniconda3/envs/transforem_new/lib/python3.8/site-packages (from scikit-learn->sklearn) (1.0.1)\n",
      "Building wheels for collected packages: sklearn\n",
      "  Building wheel for sklearn (setup.py) ... \u001b[?25ldone\n",
      "\u001b[?25h  Created wheel for sklearn: filename=sklearn-0.0-py2.py3-none-any.whl size=1316 sha256=03bb4c8737f99aa37e59104f12b1a69bcc0a48cb7694766b2607095b85b75ea7\n",
      "  Stored in directory: /home/bool_tbb/.cache/pip/wheels/22/0b/40/fd3f795caaa1fb4c6cb738bc1f56100be1e57da95849bfc897\n",
      "Successfully built sklearn\n",
      "Installing collected packages: threadpoolctl, scikit-learn, sklearn\n",
      "Successfully installed scikit-learn-0.24.1 sklearn-0.0 threadpoolctl-2.1.0\n"
     ]
    }
   ],
   "source": [
    "! pip install sklearn"
   ]
  },
  {
   "cell_type": "code",
   "execution_count": 101,
   "metadata": {
    "id": "ajTqKw9qqWFf"
   },
   "outputs": [],
   "source": [
    "def set_seed(seed = 42):\n",
    "    torch.manual_seed(seed)\n",
    "    torch.cuda.manual_seed_all(seed)\n",
    "    torch.backends.cudnn.deterministic = True\n",
    "    torch.backends.cudnn.benchmark = False\n",
    "    np.random.seed(seed)\n",
    "    random.seed(seed)\n",
    "    os.environ['PYTHONHASHSEED'] = str(seed)\n",
    "    return seed\n",
    "\n",
    "seed = set_seed(seed)"
   ]
  },
  {
   "cell_type": "code",
   "execution_count": 7,
   "metadata": {
    "id": "6weZKnqqBLyp"
   },
   "outputs": [],
   "source": [
    "# PATH Info\n",
    "CURR_PATH = os.getcwd()\n",
    "#ROOT_PATH = CURR_PATH + '/drive/MyDrive/Baidu_Qianyan'"
   ]
  },
  {
   "cell_type": "code",
   "execution_count": 8,
   "metadata": {},
   "outputs": [],
   "source": [
    "CURR_PATH ='/home/bool_tbb/jupyter_notebook/CPT_SS/model/'"
   ]
  },
  {
   "cell_type": "code",
   "execution_count": 102,
   "metadata": {
    "colab": {
     "base_uri": "https://localhost:8080/"
    },
    "id": "riZKNTNpqWFg",
    "outputId": "a0bfb4d2-3aaf-4406-e2c0-aa3058239cc9"
   },
   "outputs": [],
   "source": [
    "def mkdir(path):\n",
    "\tfolder = os.path.exists(path)\n",
    "\tif not folder:                   #判断是否存在文件夹如果不存在则创建为文件夹\n",
    "\t\tos.makedirs(path)            #makedirs 创建文件时如果路径不存在会创建这个路径\n",
    "\t\tprint('---  New Model Folder: {}  ---'.format(m_name))\n",
    " \n",
    "\telse:\n",
    "\t\tprint('---  Model Dir Exsiting!  ---')\n",
    "\n",
    "def read_tsv(input_file):\n",
    "    with open(input_file,\"r\",encoding=\"utf-8\") as file:\n",
    "        lines = []\n",
    "        for line in file:\n",
    "            if len(line.strip().split(\"\\t\")) != 1:\n",
    "                lines.append(line.strip().split(\"\\t\"))\n",
    "        df = pd.DataFrame(lines)\n",
    "    return df\n",
    "\n",
    "DATASET_PATH = ['/bq_corpus','/lcqmc','/paws-x-zh']\n",
    "dataset_path = DATASET_PATH[dsid]\n",
    "#ROOT_PATH = '/content/drive/MyDrive/Baidu_Qianyan'\n",
    "path1 = '../Data'\n",
    "DATA_PATH = ['/train.tsv','/dev.tsv','/test.tsv']\n",
    "#MODEL_SAVE_PATH = ROOT_PATH + '/model' + dataset_path + '/' + m_name \n",
    "MODEL_SAVE_PATH =  '../../model/'+m_name\n",
    "#mkdir(MODEL_SAVE_PATH)     \n",
    "\n",
    "train = pd.DataFrame()\n",
    "dev = pd.DataFrame()\n",
    "test = pd.DataFrame()\n",
    "for data_path in DATA_PATH:\n",
    "    #PATH = ''.join([ROOT_PATH,dataset_path])\n",
    "    #PATH = ''.join([dataset_path,data_path])\n",
    "    PATH = ''.join([path1,dataset_path])\n",
    "    PATH = ''.join([PATH,dataset_path])\n",
    "    PATH = ''.join([PATH,data_path])\n",
    "    df = read_tsv(PATH)\n",
    "    if data_path == '/train.tsv':\n",
    "        train = pd.concat([train,df],axis = 0)\n",
    "    if data_path == '/dev.tsv':\n",
    "        dev = pd.concat([dev,df],axis = 0)\n",
    "    if data_path == '/test.tsv':\n",
    "        test = pd.concat([test,df],axis = 0)\n",
    "\n",
    "## bq_corpus在20746行的格式有问题，以下方法无法读取\n",
    "# train = pd.DataFrame()\n",
    "# for dataset_path in DATASET_PATH:\n",
    "#     print(dataset_path)\n",
    "#     for data_path in DATA_PATH:\n",
    "#         PATH = ''.join([ROOT_PATH,dataset_path])\n",
    "#         PATH = ''.join([PATH,data_path])\n",
    "#         read_df = pd.read_csv(PATH, header=0, delimiter='\\t')\n",
    "#         train.append(read_df)\n",
    "\n",
    "train[[2]] = train[[2]].astype(int)\n",
    "dev[[2]] = dev[[2]].astype(int)"
   ]
  },
  {
   "cell_type": "code",
   "execution_count": 75,
   "metadata": {},
   "outputs": [
    {
     "name": "stdout",
     "output_type": "stream",
     "text": [
      "---  Model Dir Exsiting!  ---\n"
     ]
    }
   ],
   "source": [
    "mkdir(MODEL_SAVE_PATH)"
   ]
  },
  {
   "cell_type": "code",
   "execution_count": 76,
   "metadata": {},
   "outputs": [
    {
     "data": {
      "text/plain": [
       "'../../model/bertlinear_bbc_z0'"
      ]
     },
     "execution_count": 76,
     "metadata": {},
     "output_type": "execute_result"
    }
   ],
   "source": [
    "MODEL_SAVE_PATH"
   ]
  },
  {
   "cell_type": "code",
   "execution_count": 103,
   "metadata": {
    "colab": {
     "base_uri": "https://localhost:8080/"
    },
    "id": "9IR9OBn1qWFh",
    "outputId": "604a18c6-695c-4660-fbd2-ac6122993711"
   },
   "outputs": [
    {
     "name": "stdout",
     "output_type": "stream",
     "text": [
      "<class 'pandas.core.frame.DataFrame'>\n",
      "RangeIndex: 49129 entries, 0 to 49128\n",
      "Data columns (total 3 columns):\n",
      " #   Column  Non-Null Count  Dtype \n",
      "---  ------  --------------  ----- \n",
      " 0   0       49129 non-null  object\n",
      " 1   1       49129 non-null  object\n",
      " 2   2       49129 non-null  int64 \n",
      "dtypes: int64(1), object(2)\n",
      "memory usage: 1.1+ MB\n"
     ]
    }
   ],
   "source": [
    "train.info()"
   ]
  },
  {
   "cell_type": "code",
   "execution_count": 104,
   "metadata": {
    "colab": {
     "base_uri": "https://localhost:8080/",
     "height": 315
    },
    "id": "T3q4rpX3qWFg",
    "outputId": "040d34b3-a8af-40d6-a8ff-535f16378817"
   },
   "outputs": [
    {
     "data": {
      "text/html": [
       "<div>\n",
       "<style scoped>\n",
       "    .dataframe tbody tr th:only-of-type {\n",
       "        vertical-align: middle;\n",
       "    }\n",
       "\n",
       "    .dataframe tbody tr th {\n",
       "        vertical-align: top;\n",
       "    }\n",
       "\n",
       "    .dataframe thead th {\n",
       "        text-align: right;\n",
       "    }\n",
       "</style>\n",
       "<table border=\"1\" class=\"dataframe\">\n",
       "  <thead>\n",
       "    <tr style=\"text-align: right;\">\n",
       "      <th></th>\n",
       "      <th>2</th>\n",
       "    </tr>\n",
       "  </thead>\n",
       "  <tbody>\n",
       "    <tr>\n",
       "      <th>count</th>\n",
       "      <td>49129.000000</td>\n",
       "    </tr>\n",
       "    <tr>\n",
       "      <th>mean</th>\n",
       "      <td>0.441369</td>\n",
       "    </tr>\n",
       "    <tr>\n",
       "      <th>std</th>\n",
       "      <td>0.496556</td>\n",
       "    </tr>\n",
       "    <tr>\n",
       "      <th>min</th>\n",
       "      <td>0.000000</td>\n",
       "    </tr>\n",
       "    <tr>\n",
       "      <th>25%</th>\n",
       "      <td>0.000000</td>\n",
       "    </tr>\n",
       "    <tr>\n",
       "      <th>50%</th>\n",
       "      <td>0.000000</td>\n",
       "    </tr>\n",
       "    <tr>\n",
       "      <th>75%</th>\n",
       "      <td>1.000000</td>\n",
       "    </tr>\n",
       "    <tr>\n",
       "      <th>max</th>\n",
       "      <td>1.000000</td>\n",
       "    </tr>\n",
       "  </tbody>\n",
       "</table>\n",
       "</div>"
      ],
      "text/plain": [
       "                  2\n",
       "count  49129.000000\n",
       "mean       0.441369\n",
       "std        0.496556\n",
       "min        0.000000\n",
       "25%        0.000000\n",
       "50%        0.000000\n",
       "75%        1.000000\n",
       "max        1.000000"
      ]
     },
     "execution_count": 104,
     "metadata": {},
     "output_type": "execute_result"
    }
   ],
   "source": [
    "train.describe()"
   ]
  },
  {
   "cell_type": "code",
   "execution_count": 105,
   "metadata": {
    "id": "Rkr43-q3rDw4"
   },
   "outputs": [],
   "source": [
    "cols_dict=['sentence_a', 'sentence_b', 'similarity']\n",
    "train.columns = cols_dict\n",
    "dev.columns = cols_dict\n",
    "test.columns = cols_dict[:2]"
   ]
  },
  {
   "cell_type": "code",
   "execution_count": 106,
   "metadata": {
    "colab": {
     "base_uri": "https://localhost:8080/",
     "height": 216
    },
    "id": "HVpo0p5YqWFg",
    "outputId": "cd2c124d-852e-405b-dbbb-bfd56b7505aa"
   },
   "outputs": [
    {
     "data": {
      "text/html": [
       "<div>\n",
       "<style scoped>\n",
       "    .dataframe tbody tr th:only-of-type {\n",
       "        vertical-align: middle;\n",
       "    }\n",
       "\n",
       "    .dataframe tbody tr th {\n",
       "        vertical-align: top;\n",
       "    }\n",
       "\n",
       "    .dataframe thead th {\n",
       "        text-align: right;\n",
       "    }\n",
       "</style>\n",
       "<table border=\"1\" class=\"dataframe\">\n",
       "  <thead>\n",
       "    <tr style=\"text-align: right;\">\n",
       "      <th></th>\n",
       "      <th>sentence_a</th>\n",
       "      <th>sentence_b</th>\n",
       "      <th>similarity</th>\n",
       "    </tr>\n",
       "  </thead>\n",
       "  <tbody>\n",
       "    <tr>\n",
       "      <th>0</th>\n",
       "      <td>1560年10月，他在巴黎秘密会见了英国大使Nicolas Throckmorton，要求他...</td>\n",
       "      <td>1560年10月，他在巴黎秘密会见了英国大使尼古拉斯·斯罗克莫顿，并要求他通过英格兰返回苏格...</td>\n",
       "      <td>0</td>\n",
       "    </tr>\n",
       "    <tr>\n",
       "      <th>1</th>\n",
       "      <td>1975年的NBA赛季 -  76赛季是全美篮球协会的第30个赛季。</td>\n",
       "      <td>1975-76赛季的全国篮球协会是NBA的第30个赛季。</td>\n",
       "      <td>1</td>\n",
       "    </tr>\n",
       "    <tr>\n",
       "      <th>2</th>\n",
       "      <td>还有具体的讨论，公众形象辩论和项目讨论。</td>\n",
       "      <td>还有公开讨论，特定档案讨论和项目讨论。</td>\n",
       "      <td>0</td>\n",
       "    </tr>\n",
       "    <tr>\n",
       "      <th>3</th>\n",
       "      <td>当可以保持相当的流速时，结果很高。</td>\n",
       "      <td>当可以保持可比较的流速时，结果很高。</td>\n",
       "      <td>1</td>\n",
       "    </tr>\n",
       "    <tr>\n",
       "      <th>4</th>\n",
       "      <td>它是Akmola地区Zerendi区的所在地。</td>\n",
       "      <td>它是Akmola地区Zerendi区的所在地。</td>\n",
       "      <td>1</td>\n",
       "    </tr>\n",
       "  </tbody>\n",
       "</table>\n",
       "</div>"
      ],
      "text/plain": [
       "                                          sentence_a  \\\n",
       "0  1560年10月，他在巴黎秘密会见了英国大使Nicolas Throckmorton，要求他...   \n",
       "1                 1975年的NBA赛季 -  76赛季是全美篮球协会的第30个赛季。   \n",
       "2                               还有具体的讨论，公众形象辩论和项目讨论。   \n",
       "3                                  当可以保持相当的流速时，结果很高。   \n",
       "4                            它是Akmola地区Zerendi区的所在地。   \n",
       "\n",
       "                                          sentence_b  similarity  \n",
       "0  1560年10月，他在巴黎秘密会见了英国大使尼古拉斯·斯罗克莫顿，并要求他通过英格兰返回苏格...           0  \n",
       "1                       1975-76赛季的全国篮球协会是NBA的第30个赛季。           1  \n",
       "2                                还有公开讨论，特定档案讨论和项目讨论。           0  \n",
       "3                                 当可以保持可比较的流速时，结果很高。           1  \n",
       "4                            它是Akmola地区Zerendi区的所在地。           1  "
      ]
     },
     "execution_count": 106,
     "metadata": {},
     "output_type": "execute_result"
    }
   ],
   "source": [
    "train.head()"
   ]
  },
  {
   "cell_type": "code",
   "execution_count": 107,
   "metadata": {
    "colab": {
     "base_uri": "https://localhost:8080/",
     "height": 315
    },
    "id": "3SsBlNUyFgN2",
    "outputId": "c9aa63fb-b264-4216-fc73-c1496198d7ca"
   },
   "outputs": [
    {
     "data": {
      "text/html": [
       "<div>\n",
       "<style scoped>\n",
       "    .dataframe tbody tr th:only-of-type {\n",
       "        vertical-align: middle;\n",
       "    }\n",
       "\n",
       "    .dataframe tbody tr th {\n",
       "        vertical-align: top;\n",
       "    }\n",
       "\n",
       "    .dataframe thead th {\n",
       "        text-align: right;\n",
       "    }\n",
       "</style>\n",
       "<table border=\"1\" class=\"dataframe\">\n",
       "  <thead>\n",
       "    <tr style=\"text-align: right;\">\n",
       "      <th></th>\n",
       "      <th>similarity</th>\n",
       "      <th>len_a</th>\n",
       "      <th>len_b</th>\n",
       "    </tr>\n",
       "  </thead>\n",
       "  <tbody>\n",
       "    <tr>\n",
       "      <th>count</th>\n",
       "      <td>49129.000000</td>\n",
       "      <td>49129.000000</td>\n",
       "      <td>49129.000000</td>\n",
       "    </tr>\n",
       "    <tr>\n",
       "      <th>mean</th>\n",
       "      <td>0.441369</td>\n",
       "      <td>44.659977</td>\n",
       "      <td>44.643469</td>\n",
       "    </tr>\n",
       "    <tr>\n",
       "      <th>std</th>\n",
       "      <td>0.496556</td>\n",
       "      <td>17.926405</td>\n",
       "      <td>17.844421</td>\n",
       "    </tr>\n",
       "    <tr>\n",
       "      <th>min</th>\n",
       "      <td>0.000000</td>\n",
       "      <td>7.000000</td>\n",
       "      <td>3.000000</td>\n",
       "    </tr>\n",
       "    <tr>\n",
       "      <th>25%</th>\n",
       "      <td>0.000000</td>\n",
       "      <td>31.000000</td>\n",
       "      <td>32.000000</td>\n",
       "    </tr>\n",
       "    <tr>\n",
       "      <th>50%</th>\n",
       "      <td>0.000000</td>\n",
       "      <td>42.000000</td>\n",
       "      <td>42.000000</td>\n",
       "    </tr>\n",
       "    <tr>\n",
       "      <th>75%</th>\n",
       "      <td>1.000000</td>\n",
       "      <td>55.000000</td>\n",
       "      <td>55.000000</td>\n",
       "    </tr>\n",
       "    <tr>\n",
       "      <th>max</th>\n",
       "      <td>1.000000</td>\n",
       "      <td>149.000000</td>\n",
       "      <td>149.000000</td>\n",
       "    </tr>\n",
       "  </tbody>\n",
       "</table>\n",
       "</div>"
      ],
      "text/plain": [
       "         similarity         len_a         len_b\n",
       "count  49129.000000  49129.000000  49129.000000\n",
       "mean       0.441369     44.659977     44.643469\n",
       "std        0.496556     17.926405     17.844421\n",
       "min        0.000000      7.000000      3.000000\n",
       "25%        0.000000     31.000000     32.000000\n",
       "50%        0.000000     42.000000     42.000000\n",
       "75%        1.000000     55.000000     55.000000\n",
       "max        1.000000    149.000000    149.000000"
      ]
     },
     "execution_count": 107,
     "metadata": {},
     "output_type": "execute_result"
    }
   ],
   "source": [
    "train['len_a']=train['sentence_a'].map(lambda x: len(x))\n",
    "train['len_b']=train['sentence_b'].map(lambda x: len(x))\n",
    "train.describe()"
   ]
  },
  {
   "cell_type": "code",
   "execution_count": 108,
   "metadata": {
    "colab": {
     "base_uri": "https://localhost:8080/",
     "height": 235
    },
    "id": "DF2MJ2qSqWFh",
    "outputId": "84f10ef1-8190-4519-c601-9e117b4ed82e"
   },
   "outputs": [
    {
     "data": {
      "text/html": [
       "<div>\n",
       "<style scoped>\n",
       "    .dataframe tbody tr th:only-of-type {\n",
       "        vertical-align: middle;\n",
       "    }\n",
       "\n",
       "    .dataframe tbody tr th {\n",
       "        vertical-align: top;\n",
       "    }\n",
       "\n",
       "    .dataframe thead th {\n",
       "        text-align: right;\n",
       "    }\n",
       "</style>\n",
       "<table border=\"1\" class=\"dataframe\">\n",
       "  <thead>\n",
       "    <tr style=\"text-align: right;\">\n",
       "      <th></th>\n",
       "      <th>sentence_a</th>\n",
       "      <th>sentence_b</th>\n",
       "      <th>similarity</th>\n",
       "      <th>len_a</th>\n",
       "      <th>len_b</th>\n",
       "    </tr>\n",
       "  </thead>\n",
       "  <tbody>\n",
       "    <tr>\n",
       "      <th>0</th>\n",
       "      <td>1560年10月，他在巴黎秘密会见了英国大使Nicolas Throckmorton，要求他...</td>\n",
       "      <td>1560年10月，他在巴黎秘密会见了英国大使尼古拉斯·斯罗克莫顿，并要求他通过英格兰返回苏格...</td>\n",
       "      <td>0</td>\n",
       "      <td>56</td>\n",
       "      <td>51</td>\n",
       "    </tr>\n",
       "    <tr>\n",
       "      <th>1</th>\n",
       "      <td>1975年的NBA赛季 -  76赛季是全美篮球协会的第30个赛季。</td>\n",
       "      <td>1975-76赛季的全国篮球协会是NBA的第30个赛季。</td>\n",
       "      <td>1</td>\n",
       "      <td>34</td>\n",
       "      <td>28</td>\n",
       "    </tr>\n",
       "    <tr>\n",
       "      <th>2</th>\n",
       "      <td>还有具体的讨论，公众形象辩论和项目讨论。</td>\n",
       "      <td>还有公开讨论，特定档案讨论和项目讨论。</td>\n",
       "      <td>0</td>\n",
       "      <td>20</td>\n",
       "      <td>19</td>\n",
       "    </tr>\n",
       "    <tr>\n",
       "      <th>3</th>\n",
       "      <td>当可以保持相当的流速时，结果很高。</td>\n",
       "      <td>当可以保持可比较的流速时，结果很高。</td>\n",
       "      <td>1</td>\n",
       "      <td>17</td>\n",
       "      <td>18</td>\n",
       "    </tr>\n",
       "    <tr>\n",
       "      <th>4</th>\n",
       "      <td>它是Akmola地区Zerendi区的所在地。</td>\n",
       "      <td>它是Akmola地区Zerendi区的所在地。</td>\n",
       "      <td>1</td>\n",
       "      <td>23</td>\n",
       "      <td>23</td>\n",
       "    </tr>\n",
       "  </tbody>\n",
       "</table>\n",
       "</div>"
      ],
      "text/plain": [
       "                                          sentence_a  \\\n",
       "0  1560年10月，他在巴黎秘密会见了英国大使Nicolas Throckmorton，要求他...   \n",
       "1                 1975年的NBA赛季 -  76赛季是全美篮球协会的第30个赛季。   \n",
       "2                               还有具体的讨论，公众形象辩论和项目讨论。   \n",
       "3                                  当可以保持相当的流速时，结果很高。   \n",
       "4                            它是Akmola地区Zerendi区的所在地。   \n",
       "\n",
       "                                          sentence_b  similarity  len_a  len_b  \n",
       "0  1560年10月，他在巴黎秘密会见了英国大使尼古拉斯·斯罗克莫顿，并要求他通过英格兰返回苏格...           0     56     51  \n",
       "1                       1975-76赛季的全国篮球协会是NBA的第30个赛季。           1     34     28  \n",
       "2                                还有公开讨论，特定档案讨论和项目讨论。           0     20     19  \n",
       "3                                 当可以保持可比较的流速时，结果很高。           1     17     18  \n",
       "4                            它是Akmola地区Zerendi区的所在地。           1     23     23  "
      ]
     },
     "execution_count": 108,
     "metadata": {},
     "output_type": "execute_result"
    }
   ],
   "source": [
    "if debug:\n",
    "    df_train = train.iloc[2000:20000,:].reset_index(drop = True)\n",
    "    df_val = train.iloc[:2000,:]\n",
    "else:\n",
    "    df_train = train\n",
    "    df_val = dev\n",
    "df_val.head()"
   ]
  },
  {
   "cell_type": "code",
   "execution_count": 109,
   "metadata": {
    "colab": {
     "base_uri": "https://localhost:8080/",
     "height": 254
    },
    "id": "2LqQCqKteonu",
    "outputId": "cc34c88b-adfb-4b09-ebf7-8a5407d15164"
   },
   "outputs": [
    {
     "data": {
      "text/html": [
       "<div>\n",
       "<style scoped>\n",
       "    .dataframe tbody tr th:only-of-type {\n",
       "        vertical-align: middle;\n",
       "    }\n",
       "\n",
       "    .dataframe tbody tr th {\n",
       "        vertical-align: top;\n",
       "    }\n",
       "\n",
       "    .dataframe thead th {\n",
       "        text-align: right;\n",
       "    }\n",
       "</style>\n",
       "<table border=\"1\" class=\"dataframe\">\n",
       "  <thead>\n",
       "    <tr style=\"text-align: right;\">\n",
       "      <th></th>\n",
       "      <th>sentence_a</th>\n",
       "      <th>sentence_b</th>\n",
       "      <th>similarity</th>\n",
       "      <th>len_a</th>\n",
       "      <th>len_b</th>\n",
       "    </tr>\n",
       "  </thead>\n",
       "  <tbody>\n",
       "    <tr>\n",
       "      <th>0</th>\n",
       "      <td>改变所选择的测定，改变细胞上的选择压力，因此可以改变转化细胞中使用的性质。</td>\n",
       "      <td>如果所选择的测定法变化，则选择性压力在细胞上改变，因此可以改变转化细胞中使用的特性。</td>\n",
       "      <td>1</td>\n",
       "      <td>37</td>\n",
       "      <td>42</td>\n",
       "    </tr>\n",
       "    <tr>\n",
       "      <th>1</th>\n",
       "      <td>办公室搬到德里米尔斯并于1871年2月重新建立，尽管Scio办公室于1871年9月更名。</td>\n",
       "      <td>办公室搬到了德里米尔斯，并于1871年2月重新命名，尽管Scio办公室于1871年9月重建。</td>\n",
       "      <td>0</td>\n",
       "      <td>44</td>\n",
       "      <td>46</td>\n",
       "    </tr>\n",
       "    <tr>\n",
       "      <th>2</th>\n",
       "      <td>1844年，布鲁克林从波士顿吞并成为Pill Hill的一部分。</td>\n",
       "      <td>Pill Hill于1844年成为Brookline的一部分，当时它被波士顿吞并。</td>\n",
       "      <td>0</td>\n",
       "      <td>32</td>\n",
       "      <td>41</td>\n",
       "    </tr>\n",
       "    <tr>\n",
       "      <th>3</th>\n",
       "      <td>它们构成了西河的大部分人口和里奥内格罗河口上方的沃佩斯河上游。</td>\n",
       "      <td>它们构成了Xié河和Vaupés河口上方Rio Negro上游的大部分人口。</td>\n",
       "      <td>0</td>\n",
       "      <td>31</td>\n",
       "      <td>38</td>\n",
       "    </tr>\n",
       "    <tr>\n",
       "      <th>4</th>\n",
       "      <td>可以反转倾斜传感器，以便能够在GBA SP上正确播放。</td>\n",
       "      <td>可以播放倾斜传感器，以便能够在GBA SP上正确地反转它。</td>\n",
       "      <td>0</td>\n",
       "      <td>27</td>\n",
       "      <td>29</td>\n",
       "    </tr>\n",
       "  </tbody>\n",
       "</table>\n",
       "</div>"
      ],
      "text/plain": [
       "                                     sentence_a  \\\n",
       "0         改变所选择的测定，改变细胞上的选择压力，因此可以改变转化细胞中使用的性质。   \n",
       "1  办公室搬到德里米尔斯并于1871年2月重新建立，尽管Scio办公室于1871年9月更名。   \n",
       "2              1844年，布鲁克林从波士顿吞并成为Pill Hill的一部分。   \n",
       "3               它们构成了西河的大部分人口和里奥内格罗河口上方的沃佩斯河上游。   \n",
       "4                   可以反转倾斜传感器，以便能够在GBA SP上正确播放。   \n",
       "\n",
       "                                       sentence_b  similarity  len_a  len_b  \n",
       "0      如果所选择的测定法变化，则选择性压力在细胞上改变，因此可以改变转化细胞中使用的特性。           1     37     42  \n",
       "1  办公室搬到了德里米尔斯，并于1871年2月重新命名，尽管Scio办公室于1871年9月重建。           0     44     46  \n",
       "2       Pill Hill于1844年成为Brookline的一部分，当时它被波士顿吞并。           0     32     41  \n",
       "3          它们构成了Xié河和Vaupés河口上方Rio Negro上游的大部分人口。           0     31     38  \n",
       "4                   可以播放倾斜传感器，以便能够在GBA SP上正确地反转它。           0     27     29  "
      ]
     },
     "execution_count": 109,
     "metadata": {},
     "output_type": "execute_result"
    }
   ],
   "source": [
    "df_train.head()"
   ]
  },
  {
   "cell_type": "code",
   "execution_count": 110,
   "metadata": {},
   "outputs": [],
   "source": [
    "tokenizer = BertTokenizer.from_pretrained('bert-base-chinese')"
   ]
  },
  {
   "cell_type": "code",
   "execution_count": null,
   "metadata": {},
   "outputs": [],
   "source": [
    "sent1 = \"可以反转倾斜传感器，以便能够在GBA SP上正确播放。\"\n",
    "sent2 = \"可以播放倾斜传感器，以便能够在GBA SP上正确地反转它。\""
   ]
  },
  {
   "cell_type": "code",
   "execution_count": 46,
   "metadata": {},
   "outputs": [],
   "source": [
    "re=tokenizer.encode_plus(sent1,sent2, padding='max_length', truncation=True, max_length=128, return_tensors='pt')"
   ]
  },
  {
   "cell_type": "code",
   "execution_count": 47,
   "metadata": {},
   "outputs": [
    {
     "name": "stdout",
     "output_type": "stream",
     "text": [
      "torch.Size([1, 51])\n",
      "torch.Size([1, 51])\n",
      "torch.Size([1, 51])\n"
     ]
    }
   ],
   "source": [
    "print(re['input_ids'].size())\n",
    "print(re['token_type_ids'].size())\n",
    "print(re['attention_mask'].size())\n"
   ]
  },
  {
   "cell_type": "code",
   "execution_count": 111,
   "metadata": {
    "id": "MNmqGnLJqWFh"
   },
   "outputs": [],
   "source": [
    "class LoadDataset(Dataset):\n",
    "    def __init__(self, data, maxlen, with_labels=True, bert_model='bert-base-chinese'):\n",
    "        self.data = data\n",
    "        self.tokenizer = BertTokenizer.from_pretrained(bert_model,output_loading_info = False)  \n",
    "        self.maxlen = maxlen\n",
    "        self.with_labels = with_labels \n",
    "\n",
    "    def __len__(self):\n",
    "        return len(self.data)\n",
    "\n",
    "    def __getitem__(self, index):\n",
    "        # Selecting sentence1 and sentence2 at the specified index in the data frame\n",
    "        sent1 = str(self.data.loc[index,'sentence_a'])\n",
    "        sent2 = str(self.data.loc[index,'sentence_b'])\n",
    "        # Tokenize the pair of sentences to get token ids, attention masks and token type ids\n",
    "        encoded_input1 = self.tokenizer(sent1,sent2, padding='max_length', truncation=True, max_length=self.maxlen, return_tensors='pt')\n",
    "        #encoded_input1 = self.tokenizer.encode_plus(sent1,sent2, padding='max_length', truncation=True, max_length=self.maxlen, return_tensors='pt')\n",
    "        token_ids1 =  encoded_input1['input_ids'].squeeze(0) \n",
    "        attn_masks1 =  encoded_input1['attention_mask'].squeeze(0)  \n",
    "        token_type_ids1 =  encoded_input1['token_type_ids'].squeeze(0) \n",
    "\n",
    "        if self.with_labels:  # True if the dataset has labels\n",
    "            label = self.data.loc[index, 'similarity']\n",
    "            return token_ids1, attn_masks1, token_type_ids1, label\n",
    "        else:\n",
    "            return token_ids1, attn_masks1, token_type_ids1\n"
   ]
  },
  {
   "cell_type": "code",
   "execution_count": 112,
   "metadata": {
    "id": "zFZkwPDNqWFi"
   },
   "outputs": [],
   "source": [
    "def val_lossF(net, device, criterion, dataloader):\n",
    "    net.eval()\n",
    "    mean_loss = 0\n",
    "    count = 0\n",
    "    true_labelss = []\n",
    "    list_val_outputs = []\n",
    "    val_metric = 0\n",
    "    \n",
    "    with torch.no_grad():\n",
    "        for  i, (token_ids1, attn_masks1, token_type_ids1,labels) in enumerate(dataloader):\n",
    "            token_ids1, attn_masks1, token_type_ids1 = token_ids1.to(device), attn_masks1.to(device), token_type_ids1.to(device)\n",
    "            labels = labels.to(device)\n",
    "            \n",
    "            val_output = net(token_ids1, attn_masks1, token_type_ids1)\n",
    "            mean_loss += criterion(val_output, labels.float()).item()\n",
    "            count += 1\n",
    "\n",
    "            val_outputs = val_output.sigmoid().cpu().numpy()\n",
    "            val_outputs = np.where(val_outputs>thres, 1, 0)\n",
    "            list_val_outputs += val_outputs.tolist()\n",
    "            labelss = labels.cpu().numpy()\n",
    "            true_labelss += labelss.tolist()  \n",
    "        val_metric = accuracy_score(list_val_outputs,true_labelss)       \n",
    "    return mean_loss / count, val_metric"
   ]
  },
  {
   "cell_type": "code",
   "execution_count": 113,
   "metadata": {
    "id": "ToUFshaakaYN"
   },
   "outputs": [],
   "source": [
    "class BertLinear(nn.Module):\n",
    "    def __init__(self, dropout_rate=0.2, finetune_units=768, bert_model='bert-base-chinese', freeze_bert=False):\n",
    "        super(BertLinear, self).__init__()\n",
    "        self.bert_layer1 = BertModel.from_pretrained(bert_model,output_loading_info = False)\n",
    "        if bert_model == 'bert-base-chinese':\n",
    "            self.hidden_size = 768\n",
    "        elif bert_model == 'hfl/chinese-roberta-wwm-ext':\n",
    "            self.hidden_size = 768\n",
    "            \n",
    "        if freeze_bert:\n",
    "            for p in self.bert_layer.parameters():\n",
    "                p.requires_grad = False\n",
    "\n",
    "        self.dropout0 = nn.Dropout(p=dropout_rate)\n",
    "        self.vec_layer = nn.Linear(self.hidden_size,1)\n",
    "        # self.cs_layer = nn.Sigmoid()\n",
    "        \n",
    "    def mean_pooling(self, all_vecs, attention_mask):\n",
    "        input_mask_expanded = attention_mask.unsqueeze(-1).expand(all_vecs.size()).float()\n",
    "        sum_embeddings = torch.sum(all_vecs * input_mask_expanded, 1)\n",
    "        sum_mask = torch.clamp(input_mask_expanded.sum(1), min=1e-9)\n",
    "        return sum_embeddings / sum_mask\n",
    "\n",
    "    @autocast()\n",
    "    def forward(self,  token_ids1, attn_masks1, token_type_ids1):\n",
    "        vecs1 = self.bert_layer1(token_ids1, attn_masks1, token_type_ids1)\n",
    "        #Perform pooling. In this case, mean pooling\n",
    "        sent_embed1 = self.mean_pooling(vecs1[0], attn_masks1)\n",
    "        x1 = self.dropout0(sent_embed1)\n",
    "        x1 = self.vec_layer(x1)\n",
    "\n",
    "        return x1.squeeze(-1)"
   ]
  },
  {
   "cell_type": "code",
   "execution_count": 114,
   "metadata": {
    "colab": {
     "base_uri": "https://localhost:8080/"
    },
    "id": "6OYxoyFxqWFk",
    "outputId": "abe3aeeb-97e8-4a9e-a4a7-ac1f3272aabe"
   },
   "outputs": [
    {
     "data": {
      "text/plain": [
       "BertLinear(\n",
       "  (bert_layer1): BertModel(\n",
       "    (embeddings): BertEmbeddings(\n",
       "      (word_embeddings): Embedding(21128, 768, padding_idx=0)\n",
       "      (position_embeddings): Embedding(512, 768)\n",
       "      (token_type_embeddings): Embedding(2, 768)\n",
       "      (LayerNorm): LayerNorm((768,), eps=1e-12, elementwise_affine=True)\n",
       "      (dropout): Dropout(p=0.1, inplace=False)\n",
       "    )\n",
       "    (encoder): BertEncoder(\n",
       "      (layer): ModuleList(\n",
       "        (0): BertLayer(\n",
       "          (attention): BertAttention(\n",
       "            (self): BertSelfAttention(\n",
       "              (query): Linear(in_features=768, out_features=768, bias=True)\n",
       "              (key): Linear(in_features=768, out_features=768, bias=True)\n",
       "              (value): Linear(in_features=768, out_features=768, bias=True)\n",
       "              (dropout): Dropout(p=0.1, inplace=False)\n",
       "            )\n",
       "            (output): BertSelfOutput(\n",
       "              (dense): Linear(in_features=768, out_features=768, bias=True)\n",
       "              (LayerNorm): LayerNorm((768,), eps=1e-12, elementwise_affine=True)\n",
       "              (dropout): Dropout(p=0.1, inplace=False)\n",
       "            )\n",
       "          )\n",
       "          (intermediate): BertIntermediate(\n",
       "            (dense): Linear(in_features=768, out_features=3072, bias=True)\n",
       "          )\n",
       "          (output): BertOutput(\n",
       "            (dense): Linear(in_features=3072, out_features=768, bias=True)\n",
       "            (LayerNorm): LayerNorm((768,), eps=1e-12, elementwise_affine=True)\n",
       "            (dropout): Dropout(p=0.1, inplace=False)\n",
       "          )\n",
       "        )\n",
       "        (1): BertLayer(\n",
       "          (attention): BertAttention(\n",
       "            (self): BertSelfAttention(\n",
       "              (query): Linear(in_features=768, out_features=768, bias=True)\n",
       "              (key): Linear(in_features=768, out_features=768, bias=True)\n",
       "              (value): Linear(in_features=768, out_features=768, bias=True)\n",
       "              (dropout): Dropout(p=0.1, inplace=False)\n",
       "            )\n",
       "            (output): BertSelfOutput(\n",
       "              (dense): Linear(in_features=768, out_features=768, bias=True)\n",
       "              (LayerNorm): LayerNorm((768,), eps=1e-12, elementwise_affine=True)\n",
       "              (dropout): Dropout(p=0.1, inplace=False)\n",
       "            )\n",
       "          )\n",
       "          (intermediate): BertIntermediate(\n",
       "            (dense): Linear(in_features=768, out_features=3072, bias=True)\n",
       "          )\n",
       "          (output): BertOutput(\n",
       "            (dense): Linear(in_features=3072, out_features=768, bias=True)\n",
       "            (LayerNorm): LayerNorm((768,), eps=1e-12, elementwise_affine=True)\n",
       "            (dropout): Dropout(p=0.1, inplace=False)\n",
       "          )\n",
       "        )\n",
       "        (2): BertLayer(\n",
       "          (attention): BertAttention(\n",
       "            (self): BertSelfAttention(\n",
       "              (query): Linear(in_features=768, out_features=768, bias=True)\n",
       "              (key): Linear(in_features=768, out_features=768, bias=True)\n",
       "              (value): Linear(in_features=768, out_features=768, bias=True)\n",
       "              (dropout): Dropout(p=0.1, inplace=False)\n",
       "            )\n",
       "            (output): BertSelfOutput(\n",
       "              (dense): Linear(in_features=768, out_features=768, bias=True)\n",
       "              (LayerNorm): LayerNorm((768,), eps=1e-12, elementwise_affine=True)\n",
       "              (dropout): Dropout(p=0.1, inplace=False)\n",
       "            )\n",
       "          )\n",
       "          (intermediate): BertIntermediate(\n",
       "            (dense): Linear(in_features=768, out_features=3072, bias=True)\n",
       "          )\n",
       "          (output): BertOutput(\n",
       "            (dense): Linear(in_features=3072, out_features=768, bias=True)\n",
       "            (LayerNorm): LayerNorm((768,), eps=1e-12, elementwise_affine=True)\n",
       "            (dropout): Dropout(p=0.1, inplace=False)\n",
       "          )\n",
       "        )\n",
       "        (3): BertLayer(\n",
       "          (attention): BertAttention(\n",
       "            (self): BertSelfAttention(\n",
       "              (query): Linear(in_features=768, out_features=768, bias=True)\n",
       "              (key): Linear(in_features=768, out_features=768, bias=True)\n",
       "              (value): Linear(in_features=768, out_features=768, bias=True)\n",
       "              (dropout): Dropout(p=0.1, inplace=False)\n",
       "            )\n",
       "            (output): BertSelfOutput(\n",
       "              (dense): Linear(in_features=768, out_features=768, bias=True)\n",
       "              (LayerNorm): LayerNorm((768,), eps=1e-12, elementwise_affine=True)\n",
       "              (dropout): Dropout(p=0.1, inplace=False)\n",
       "            )\n",
       "          )\n",
       "          (intermediate): BertIntermediate(\n",
       "            (dense): Linear(in_features=768, out_features=3072, bias=True)\n",
       "          )\n",
       "          (output): BertOutput(\n",
       "            (dense): Linear(in_features=3072, out_features=768, bias=True)\n",
       "            (LayerNorm): LayerNorm((768,), eps=1e-12, elementwise_affine=True)\n",
       "            (dropout): Dropout(p=0.1, inplace=False)\n",
       "          )\n",
       "        )\n",
       "        (4): BertLayer(\n",
       "          (attention): BertAttention(\n",
       "            (self): BertSelfAttention(\n",
       "              (query): Linear(in_features=768, out_features=768, bias=True)\n",
       "              (key): Linear(in_features=768, out_features=768, bias=True)\n",
       "              (value): Linear(in_features=768, out_features=768, bias=True)\n",
       "              (dropout): Dropout(p=0.1, inplace=False)\n",
       "            )\n",
       "            (output): BertSelfOutput(\n",
       "              (dense): Linear(in_features=768, out_features=768, bias=True)\n",
       "              (LayerNorm): LayerNorm((768,), eps=1e-12, elementwise_affine=True)\n",
       "              (dropout): Dropout(p=0.1, inplace=False)\n",
       "            )\n",
       "          )\n",
       "          (intermediate): BertIntermediate(\n",
       "            (dense): Linear(in_features=768, out_features=3072, bias=True)\n",
       "          )\n",
       "          (output): BertOutput(\n",
       "            (dense): Linear(in_features=3072, out_features=768, bias=True)\n",
       "            (LayerNorm): LayerNorm((768,), eps=1e-12, elementwise_affine=True)\n",
       "            (dropout): Dropout(p=0.1, inplace=False)\n",
       "          )\n",
       "        )\n",
       "        (5): BertLayer(\n",
       "          (attention): BertAttention(\n",
       "            (self): BertSelfAttention(\n",
       "              (query): Linear(in_features=768, out_features=768, bias=True)\n",
       "              (key): Linear(in_features=768, out_features=768, bias=True)\n",
       "              (value): Linear(in_features=768, out_features=768, bias=True)\n",
       "              (dropout): Dropout(p=0.1, inplace=False)\n",
       "            )\n",
       "            (output): BertSelfOutput(\n",
       "              (dense): Linear(in_features=768, out_features=768, bias=True)\n",
       "              (LayerNorm): LayerNorm((768,), eps=1e-12, elementwise_affine=True)\n",
       "              (dropout): Dropout(p=0.1, inplace=False)\n",
       "            )\n",
       "          )\n",
       "          (intermediate): BertIntermediate(\n",
       "            (dense): Linear(in_features=768, out_features=3072, bias=True)\n",
       "          )\n",
       "          (output): BertOutput(\n",
       "            (dense): Linear(in_features=3072, out_features=768, bias=True)\n",
       "            (LayerNorm): LayerNorm((768,), eps=1e-12, elementwise_affine=True)\n",
       "            (dropout): Dropout(p=0.1, inplace=False)\n",
       "          )\n",
       "        )\n",
       "        (6): BertLayer(\n",
       "          (attention): BertAttention(\n",
       "            (self): BertSelfAttention(\n",
       "              (query): Linear(in_features=768, out_features=768, bias=True)\n",
       "              (key): Linear(in_features=768, out_features=768, bias=True)\n",
       "              (value): Linear(in_features=768, out_features=768, bias=True)\n",
       "              (dropout): Dropout(p=0.1, inplace=False)\n",
       "            )\n",
       "            (output): BertSelfOutput(\n",
       "              (dense): Linear(in_features=768, out_features=768, bias=True)\n",
       "              (LayerNorm): LayerNorm((768,), eps=1e-12, elementwise_affine=True)\n",
       "              (dropout): Dropout(p=0.1, inplace=False)\n",
       "            )\n",
       "          )\n",
       "          (intermediate): BertIntermediate(\n",
       "            (dense): Linear(in_features=768, out_features=3072, bias=True)\n",
       "          )\n",
       "          (output): BertOutput(\n",
       "            (dense): Linear(in_features=3072, out_features=768, bias=True)\n",
       "            (LayerNorm): LayerNorm((768,), eps=1e-12, elementwise_affine=True)\n",
       "            (dropout): Dropout(p=0.1, inplace=False)\n",
       "          )\n",
       "        )\n",
       "        (7): BertLayer(\n",
       "          (attention): BertAttention(\n",
       "            (self): BertSelfAttention(\n",
       "              (query): Linear(in_features=768, out_features=768, bias=True)\n",
       "              (key): Linear(in_features=768, out_features=768, bias=True)\n",
       "              (value): Linear(in_features=768, out_features=768, bias=True)\n",
       "              (dropout): Dropout(p=0.1, inplace=False)\n",
       "            )\n",
       "            (output): BertSelfOutput(\n",
       "              (dense): Linear(in_features=768, out_features=768, bias=True)\n",
       "              (LayerNorm): LayerNorm((768,), eps=1e-12, elementwise_affine=True)\n",
       "              (dropout): Dropout(p=0.1, inplace=False)\n",
       "            )\n",
       "          )\n",
       "          (intermediate): BertIntermediate(\n",
       "            (dense): Linear(in_features=768, out_features=3072, bias=True)\n",
       "          )\n",
       "          (output): BertOutput(\n",
       "            (dense): Linear(in_features=3072, out_features=768, bias=True)\n",
       "            (LayerNorm): LayerNorm((768,), eps=1e-12, elementwise_affine=True)\n",
       "            (dropout): Dropout(p=0.1, inplace=False)\n",
       "          )\n",
       "        )\n",
       "        (8): BertLayer(\n",
       "          (attention): BertAttention(\n",
       "            (self): BertSelfAttention(\n",
       "              (query): Linear(in_features=768, out_features=768, bias=True)\n",
       "              (key): Linear(in_features=768, out_features=768, bias=True)\n",
       "              (value): Linear(in_features=768, out_features=768, bias=True)\n",
       "              (dropout): Dropout(p=0.1, inplace=False)\n",
       "            )\n",
       "            (output): BertSelfOutput(\n",
       "              (dense): Linear(in_features=768, out_features=768, bias=True)\n",
       "              (LayerNorm): LayerNorm((768,), eps=1e-12, elementwise_affine=True)\n",
       "              (dropout): Dropout(p=0.1, inplace=False)\n",
       "            )\n",
       "          )\n",
       "          (intermediate): BertIntermediate(\n",
       "            (dense): Linear(in_features=768, out_features=3072, bias=True)\n",
       "          )\n",
       "          (output): BertOutput(\n",
       "            (dense): Linear(in_features=3072, out_features=768, bias=True)\n",
       "            (LayerNorm): LayerNorm((768,), eps=1e-12, elementwise_affine=True)\n",
       "            (dropout): Dropout(p=0.1, inplace=False)\n",
       "          )\n",
       "        )\n",
       "        (9): BertLayer(\n",
       "          (attention): BertAttention(\n",
       "            (self): BertSelfAttention(\n",
       "              (query): Linear(in_features=768, out_features=768, bias=True)\n",
       "              (key): Linear(in_features=768, out_features=768, bias=True)\n",
       "              (value): Linear(in_features=768, out_features=768, bias=True)\n",
       "              (dropout): Dropout(p=0.1, inplace=False)\n",
       "            )\n",
       "            (output): BertSelfOutput(\n",
       "              (dense): Linear(in_features=768, out_features=768, bias=True)\n",
       "              (LayerNorm): LayerNorm((768,), eps=1e-12, elementwise_affine=True)\n",
       "              (dropout): Dropout(p=0.1, inplace=False)\n",
       "            )\n",
       "          )\n",
       "          (intermediate): BertIntermediate(\n",
       "            (dense): Linear(in_features=768, out_features=3072, bias=True)\n",
       "          )\n",
       "          (output): BertOutput(\n",
       "            (dense): Linear(in_features=3072, out_features=768, bias=True)\n",
       "            (LayerNorm): LayerNorm((768,), eps=1e-12, elementwise_affine=True)\n",
       "            (dropout): Dropout(p=0.1, inplace=False)\n",
       "          )\n",
       "        )\n",
       "        (10): BertLayer(\n",
       "          (attention): BertAttention(\n",
       "            (self): BertSelfAttention(\n",
       "              (query): Linear(in_features=768, out_features=768, bias=True)\n",
       "              (key): Linear(in_features=768, out_features=768, bias=True)\n",
       "              (value): Linear(in_features=768, out_features=768, bias=True)\n",
       "              (dropout): Dropout(p=0.1, inplace=False)\n",
       "            )\n",
       "            (output): BertSelfOutput(\n",
       "              (dense): Linear(in_features=768, out_features=768, bias=True)\n",
       "              (LayerNorm): LayerNorm((768,), eps=1e-12, elementwise_affine=True)\n",
       "              (dropout): Dropout(p=0.1, inplace=False)\n",
       "            )\n",
       "          )\n",
       "          (intermediate): BertIntermediate(\n",
       "            (dense): Linear(in_features=768, out_features=3072, bias=True)\n",
       "          )\n",
       "          (output): BertOutput(\n",
       "            (dense): Linear(in_features=3072, out_features=768, bias=True)\n",
       "            (LayerNorm): LayerNorm((768,), eps=1e-12, elementwise_affine=True)\n",
       "            (dropout): Dropout(p=0.1, inplace=False)\n",
       "          )\n",
       "        )\n",
       "        (11): BertLayer(\n",
       "          (attention): BertAttention(\n",
       "            (self): BertSelfAttention(\n",
       "              (query): Linear(in_features=768, out_features=768, bias=True)\n",
       "              (key): Linear(in_features=768, out_features=768, bias=True)\n",
       "              (value): Linear(in_features=768, out_features=768, bias=True)\n",
       "              (dropout): Dropout(p=0.1, inplace=False)\n",
       "            )\n",
       "            (output): BertSelfOutput(\n",
       "              (dense): Linear(in_features=768, out_features=768, bias=True)\n",
       "              (LayerNorm): LayerNorm((768,), eps=1e-12, elementwise_affine=True)\n",
       "              (dropout): Dropout(p=0.1, inplace=False)\n",
       "            )\n",
       "          )\n",
       "          (intermediate): BertIntermediate(\n",
       "            (dense): Linear(in_features=768, out_features=3072, bias=True)\n",
       "          )\n",
       "          (output): BertOutput(\n",
       "            (dense): Linear(in_features=3072, out_features=768, bias=True)\n",
       "            (LayerNorm): LayerNorm((768,), eps=1e-12, elementwise_affine=True)\n",
       "            (dropout): Dropout(p=0.1, inplace=False)\n",
       "          )\n",
       "        )\n",
       "      )\n",
       "    )\n",
       "    (pooler): BertPooler(\n",
       "      (dense): Linear(in_features=768, out_features=768, bias=True)\n",
       "      (activation): Tanh()\n",
       "    )\n",
       "  )\n",
       "  (dropout0): Dropout(p=0.1, inplace=False)\n",
       "  (vec_layer): Linear(in_features=768, out_features=1, bias=True)\n",
       ")"
      ]
     },
     "execution_count": 114,
     "metadata": {},
     "output_type": "execute_result"
    }
   ],
   "source": [
    "device = torch.device(device if torch.cuda.is_available() else \"cpu\")\n",
    "net = BertLinear(dropout_rate=dropout_rate, finetune_units=finetune_units,bert_model=bert_model,freeze_bert=freeze_bert)\n",
    "net.to(device)"
   ]
  },
  {
   "cell_type": "code",
   "execution_count": 115,
   "metadata": {},
   "outputs": [],
   "source": [
    "net = nn.DataParallel(net, [0,1,2,3])"
   ]
  },
  {
   "cell_type": "code",
   "execution_count": 116,
   "metadata": {
    "colab": {
     "base_uri": "https://localhost:8080/"
    },
    "id": "Akpv2SPRqWFl",
    "outputId": "9b06345b-8976-4189-9804-1ac6ac7df481"
   },
   "outputs": [
    {
     "name": "stderr",
     "output_type": "stream",
     "text": [
      "100%|██████████| 90/90 [01:15<00:00,  1.19it/s]\n"
     ]
    },
    {
     "name": "stdout",
     "output_type": "stream",
     "text": [
      "Epoch 1 complete! Train Loss : 0.5763872265815735 , Validation Loss : 0.5882046461105347 , Validation Metric - Accuracy : 0.693 \n",
      "Best validation loss improved from inf to 0.5882046461105347\n"
     ]
    },
    {
     "name": "stderr",
     "output_type": "stream",
     "text": [
      "\r",
      "  0%|          | 0/90 [00:00<?, ?it/s]"
     ]
    },
    {
     "name": "stdout",
     "output_type": "stream",
     "text": [
      "The model has been saved in ep_1_val_loss_0.5882.pt\n"
     ]
    },
    {
     "name": "stderr",
     "output_type": "stream",
     "text": [
      "100%|██████████| 90/90 [01:18<00:00,  1.14it/s]\n"
     ]
    },
    {
     "name": "stdout",
     "output_type": "stream",
     "text": [
      "Epoch 2 complete! Train Loss : 0.46009939908981323 , Validation Loss : 0.5149914115667343 , Validation Metric - Accuracy : 0.743 \n",
      "Best validation loss improved from 0.5882046461105347 to 0.5149914115667343\n"
     ]
    },
    {
     "name": "stderr",
     "output_type": "stream",
     "text": [
      "\r",
      "  0%|          | 0/90 [00:00<?, ?it/s]"
     ]
    },
    {
     "name": "stdout",
     "output_type": "stream",
     "text": [
      "The model has been saved in ep_2_val_loss_0.515.pt\n"
     ]
    },
    {
     "name": "stderr",
     "output_type": "stream",
     "text": [
      "100%|██████████| 90/90 [01:20<00:00,  1.12it/s]\n"
     ]
    },
    {
     "name": "stdout",
     "output_type": "stream",
     "text": [
      "Epoch 3 complete! Train Loss : 0.4470978379249573 , Validation Loss : 0.5094869673252106 , Validation Metric - Accuracy : 0.7505 \n",
      "Best validation loss improved from 0.5149914115667343 to 0.5094869673252106\n"
     ]
    },
    {
     "name": "stderr",
     "output_type": "stream",
     "text": [
      "\r",
      "  0%|          | 0/90 [00:00<?, ?it/s]"
     ]
    },
    {
     "name": "stdout",
     "output_type": "stream",
     "text": [
      "The model has been saved in ep_3_val_loss_0.5095.pt\n"
     ]
    },
    {
     "name": "stderr",
     "output_type": "stream",
     "text": [
      "100%|██████████| 90/90 [01:20<00:00,  1.12it/s]\n"
     ]
    },
    {
     "name": "stdout",
     "output_type": "stream",
     "text": [
      "Epoch 4 complete! Train Loss : 0.3799962103366852 , Validation Loss : 0.5084242701530457 , Validation Metric - Accuracy : 0.762 \n",
      "Best validation loss improved from 0.5094869673252106 to 0.5084242701530457\n",
      "The model has been saved in ep_4_val_loss_0.5084.pt\n"
     ]
    }
   ],
   "source": [
    "train_set = LoadDataset(df_train, maxlen, bert_model)\n",
    "val_set = LoadDataset(df_val, maxlen, bert_model)\n",
    "train_loader = DataLoader(train_set, batch_size=bs)\n",
    "val_loader = DataLoader(val_set, batch_size=bs)\n",
    "\n",
    "#criterion = nn.MSELoss()\n",
    "criterion = nn.BCEWithLogitsLoss()\n",
    "opti = AdamW(net.parameters(), lr=lr, weight_decay=1e-2)\n",
    "num_training_steps = epochs * len(train_loader)  # The total number of training steps\n",
    "lr_scheduler = get_linear_schedule_with_warmup(optimizer=opti, num_warmup_steps=num_warmup_steps, num_training_steps=num_training_steps )\n",
    "scaler = GradScaler()\n",
    "\n",
    "best_loss = np.Inf\n",
    "best_ep = 1\n",
    "iters = []\n",
    "train_losses = []\n",
    "val_losses = []\n",
    "val_metrics = []\n",
    "es_count = 0\n",
    "for ep in range(epochs):\n",
    "    for it, (token_ids1, attn_masks1, token_type_ids1,labels) in tqdm(enumerate(train_loader), total = len(train_loader)):\n",
    "        net.train()\n",
    "        \n",
    "        token_ids1, attn_masks1, token_type_ids1 = token_ids1.to(device), attn_masks1.to(device), token_type_ids1.to(device)\n",
    "        labels = labels.to(device)\n",
    "        opti.zero_grad()\n",
    "        with autocast():\n",
    "            output = net(token_ids1, attn_masks1, token_type_ids1)\n",
    "            loss = criterion(output, labels.float())\n",
    "        scaler.scale(loss).backward()\n",
    "        scaler.step(opti)\n",
    "        scaler.update()      \n",
    "        lr_scheduler.step()\n",
    "        \n",
    "        # if it % 100 == 0:\n",
    "        #     val_loss, val_metric = val_lossF(net, device, criterion, val_loader)  # Compute validation loss\n",
    "        #     print(\"it = {}, train_loss = {}, val_loss = {}, val_metric= {}\".format(it+1,loss,val_loss,val_metric))\n",
    "            \n",
    "    val_loss, val_metric = val_lossF(net, device, criterion, val_loader)  # Compute validation loss  \n",
    "    print(\"Epoch {} complete! Train Loss : {} , Validation Loss : {} , Validation Metric - Accuracy : {} \".format(ep+1, loss, val_loss, val_metric))\n",
    "    train_losses.append(loss)\n",
    "    val_losses.append(val_loss)  \n",
    "    val_metrics.append(val_metric)\n",
    "    if val_loss < best_loss:       \n",
    "        print(\"Best validation loss improved from {} to {}\".format(best_loss, val_loss))\n",
    "        net_copy = copy.deepcopy(net)  # save a copy of the model\n",
    "        best_loss = val_loss\n",
    "        best_ep = ep + 1\n",
    "        path_to_model='ep_{}_val_loss_{}.pt'.format(best_ep, round(best_loss, 4))\n",
    "        torch.save(net_copy.state_dict(), MODEL_SAVE_PATH + '/' + path_to_model)\n",
    "        print(\"The model has been saved in {}\".format(path_to_model))\n",
    "    # else:\n",
    "    #     es_count += 1\n",
    "    \n",
    "    # if early_stop and es_count>es_counts_MAX:\n",
    "    #     print('Early Stop Train in Epoch : {} '.format(ep+1))\n",
    "    #     break\n",
    "\n",
    "del loss\n",
    "torch.cuda.empty_cache()"
   ]
  },
  {
   "cell_type": "code",
   "execution_count": 36,
   "metadata": {},
   "outputs": [
    {
     "data": {
      "text/plain": [
       "'2.8.0'"
      ]
     },
     "execution_count": 36,
     "metadata": {},
     "output_type": "execute_result"
    }
   ],
   "source": [
    "transformers.__version__"
   ]
  },
  {
   "cell_type": "code",
   "execution_count": 117,
   "metadata": {
    "colab": {
     "base_uri": "https://localhost:8080/",
     "height": 375
    },
    "id": "zOqc1UooqWFl",
    "outputId": "752c23c8-6141-42d8-875a-2764d7ab2e08"
   },
   "outputs": [
    {
     "data": {
      "image/png": "[encoded data removed]",
      "text/plain": [
       "<Figure size 432x288 with 1 Axes>"
      ]
     },
     "metadata": {
      "needs_background": "light"
     },
     "output_type": "display_data"
    },
    {
     "name": "stdout",
     "output_type": "stream",
     "text": [
      "train loss =  [tensor(0.5764, device='cuda:0', grad_fn=<BinaryCrossEntropyWithLogitsBackward>), tensor(0.4601, device='cuda:0', grad_fn=<BinaryCrossEntropyWithLogitsBackward>), tensor(0.4471, device='cuda:0', grad_fn=<BinaryCrossEntropyWithLogitsBackward>), tensor(0.3800, device='cuda:0', grad_fn=<BinaryCrossEntropyWithLogitsBackward>)]\n",
      "val loss =  [0.5882046461105347, 0.5149914115667343, 0.5094869673252106, 0.5084242701530457]\n",
      "val metric =  [0.693, 0.743, 0.7505, 0.762]\n"
     ]
    }
   ],
   "source": [
    "p1 = plt.plot(range(epochs),train_losses,'b--',label='train_loss')\n",
    "p2 = plt.plot(range(epochs),val_losses,'r--',label='validation_loss')\n",
    "p3 = plt.plot(range(epochs),val_metrics,'g--',label='validation_metric')\n",
    "plt.plot(range(epochs),train_losses,'bo-',range(epochs),val_losses,'r+-',range(epochs),val_metrics,'g^-')\n",
    "plt.title('Loss')\n",
    "plt.xlabel('epoch')\n",
    "plt.ylabel('loss & metric')\n",
    "plt.legend()\n",
    "plt.show()\n",
    "print('train loss = ', train_losses)\n",
    "print('val loss = ', val_losses)\n",
    "print('val metric = ', val_metrics)\n"
   ]
  },
  {
   "cell_type": "code",
   "execution_count": 39,
   "metadata": {},
   "outputs": [
    {
     "data": {
      "text/plain": [
       "'../../model/bertlinear_bbc_z0/ep_1_val_loss_0.269.pt'"
      ]
     },
     "execution_count": 39,
     "metadata": {},
     "output_type": "execute_result"
    }
   ],
   "source": [
    "MODEL_SAVE_PATH + '/' + path_to_model"
   ]
  },
  {
   "cell_type": "code",
   "execution_count": 118,
   "metadata": {
    "colab": {
     "base_uri": "https://localhost:8080/"
    },
    "id": "H0gMcF6BqWFm",
    "outputId": "7327a5db-d76b-4bc4-edf7-a07a5f3b8b18"
   },
   "outputs": [
    {
     "name": "stderr",
     "output_type": "stream",
     "text": [
      "100%|██████████| 10/10 [00:04<00:00,  2.48it/s]\n"
     ]
    }
   ],
   "source": [
    "net = BertLinear(dropout_rate=dropout_rate, finetune_units=finetune_units,bert_model=bert_model)\n",
    "net = nn.DataParallel(net)\n",
    "net.load_state_dict(torch.load(MODEL_SAVE_PATH + '/' + path_to_model))\n",
    "net.to(device)\n",
    "\n",
    "test_set = LoadDataset(test, maxlen, with_labels=False, bert_model = bert_model)\n",
    "test_loader = DataLoader(test_set, batch_size=bs)\n",
    "\n",
    "net.eval()\n",
    "results = []\n",
    "with torch.no_grad():\n",
    "    for token_ids1, attn_masks1, token_type_ids1 in tqdm(test_loader):\n",
    "        token_ids1, attn_masks1, token_type_ids1 = token_ids1.to(device), attn_masks1.to(device), token_type_ids1.to(device)\n",
    "        output = net(token_ids1, attn_masks1, token_type_ids1)\n",
    "        output = output.sigmoid().cpu().numpy()\n",
    "        output = np.where(output>thres, 1, 0)\n",
    "        results += output.tolist()\n",
    "\n",
    "test['similarity'] = results"
   ]
  },
  {
   "cell_type": "code",
   "execution_count": 68,
   "metadata": {
    "colab": {
     "base_uri": "https://localhost:8080/",
     "height": 216
    },
    "id": "YtOT6Np9xR6F",
    "outputId": "a8f399bd-f99d-4a4d-8500-e989a34fc5bc"
   },
   "outputs": [
    {
     "ename": "TypeError",
     "evalue": "to_csv() got an unexpected keyword argument 'delimiter'",
     "output_type": "error",
     "traceback": [
      "\u001b[0;31m---------------------------------------------------------------------------\u001b[0m",
      "\u001b[0;31mTypeError\u001b[0m                                 Traceback (most recent call last)",
      "\u001b[0;32m<ipython-input-68-fd7adb180025>\u001b[0m in \u001b[0;36m<module>\u001b[0;34m\u001b[0m\n\u001b[0;32m----> 1\u001b[0;31m \u001b[0mtest\u001b[0m\u001b[0;34m.\u001b[0m\u001b[0mto_csv\u001b[0m\u001b[0;34m(\u001b[0m\u001b[0mMODEL_SAVE_PATH\u001b[0m\u001b[0;34m+\u001b[0m\u001b[0;34m'dataset_path'\u001b[0m\u001b[0;34m+\u001b[0m\u001b[0;34m'preds.tsv'\u001b[0m\u001b[0;34m,\u001b[0m\u001b[0mdelimiter\u001b[0m\u001b[0;34m=\u001b[0m\u001b[0;34m'\\t'\u001b[0m\u001b[0;34m)\u001b[0m\u001b[0;34m\u001b[0m\u001b[0;34m\u001b[0m\u001b[0m\n\u001b[0m\u001b[1;32m      2\u001b[0m \u001b[0mtest\u001b[0m\u001b[0;34m.\u001b[0m\u001b[0mhead\u001b[0m\u001b[0;34m(\u001b[0m\u001b[0;36m50\u001b[0m\u001b[0;34m)\u001b[0m\u001b[0;34m\u001b[0m\u001b[0;34m\u001b[0m\u001b[0m\n",
      "\u001b[0;31mTypeError\u001b[0m: to_csv() got an unexpected keyword argument 'delimiter'"
     ]
    }
   ],
   "source": [
    "test.to_csv(MODEL_SAVE_PATH+'dataset_path'+'preds.tsv',sep='\\t')\n",
    "test.head(50)"
   ]
  },
  {
   "cell_type": "code",
   "execution_count": 47,
   "metadata": {},
   "outputs": [
    {
     "data": {
      "text/plain": [
       "'../../model/bertlinear_bbc_z0/dataset_path/preds.csv'"
      ]
     },
     "execution_count": 47,
     "metadata": {},
     "output_type": "execute_result"
    }
   ],
   "source": [
    "MODEL_SAVE_PATH+'/dataset_path/'+'preds.csv'"
   ]
  },
  {
   "cell_type": "code",
   "execution_count": 119,
   "metadata": {},
   "outputs": [
    {
     "name": "stdout",
     "output_type": "stream",
     "text": [
      "      index  prediction\n",
      "0         0           1\n",
      "1         1           0\n",
      "2         2           0\n",
      "3         3           0\n",
      "4         4           1\n",
      "...     ...         ...\n",
      "1995   1995           0\n",
      "1996   1996           1\n",
      "1997   1997           0\n",
      "1998   1998           0\n",
      "1999   1999           0\n",
      "\n",
      "[2000 rows x 2 columns]\n"
     ]
    }
   ],
   "source": [
    "ls  = [\"index\" , \"prediction\"]\n",
    "df1=pd.DataFrame(columns=ls,index=None)#数据有三列，列名分别为one,two,three\n",
    "df1['index']=list(range(len(test)))\n",
    "df1['prediction']=test['similarity']\n",
    "print(df1)\n",
    "df1.to_csv('testcsv_new.csv',encoding='utf8',index=False,sep='\\t')"
   ]
  },
  {
   "cell_type": "code",
   "execution_count": null,
   "metadata": {},
   "outputs": [],
   "source": []
  }
 ],
 "metadata": {
  "accelerator": "GPU",
  "colab": {
   "collapsed_sections": [],
   "name": "Baidu千言-文本相似度-Baseline-BERTLinear.ipynb",
   "provenance": [],
   "toc_visible": true
  },
  "kernelspec": {
   "display_name": "Python 3",
   "language": "python",
   "name": "python3"
  },
  "language_info": {
   "codemirror_mode": {
    "name": "ipython",
    "version": 3
   },
   "file_extension": ".py",
   "mimetype": "text/x-python",
   "name": "python",
   "nbconvert_exporter": "python",
   "pygments_lexer": "ipython3",
   "version": "3.8.0"
  }
 },
 "nbformat": 4,
 "nbformat_minor": 1
}
