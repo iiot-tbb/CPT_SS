{
 "cells": [
  {
   "cell_type": "code",
   "execution_count": 1,
   "metadata": {},
   "outputs": [],
   "source": [
    "from transformers import BertTokenizer, BertModel,BertConfig\n",
    "import torch\n",
    "from torch.utils.data import DataLoader,Dataset\n",
    "from torch.nn.utils.rnn import pad_sequence\n",
    "from torch.optim import Adam\n",
    "from tqdm import tqdm\n",
    "from torch.nn import CrossEntropyLoss,MSELoss"
   ]
  },
  {
   "cell_type": "code",
   "execution_count": 2,
   "metadata": {},
   "outputs": [],
   "source": [
    "import pandas as pd\n",
    "import numpy as np\n",
    "import random\n",
    "import os"
   ]
  },
  {
   "cell_type": "code",
   "execution_count": 3,
   "metadata": {},
   "outputs": [],
   "source": [
    "def set_seed(seed = 91):\n",
    "    torch.manual_seed(seed)\n",
    "    torch.cuda.manual_seed_all(seed)\n",
    "    torch.backends.cudnn.deterministic = True\n",
    "    torch.backends.cudnn.benchmark = False\n",
    "    np.random.seed(seed)\n",
    "    random.seed(seed)\n",
    "    os.environ['PYTHONHASHSEED'] = str(seed)\n",
    "    return seed\n",
    "\n",
    "seed = set_seed()"
   ]
  },
  {
   "cell_type": "code",
   "execution_count": 15,
   "metadata": {},
   "outputs": [],
   "source": [
    "#df = pd.read_csv('../Data/bq_corpus/bq_corpus/train.tsv',delimiter='\\t')"
   ]
  },
  {
   "cell_type": "code",
   "execution_count": 16,
   "metadata": {},
   "outputs": [
    {
     "name": "stdout",
     "output_type": "stream",
     "text": [
      "/home/bool_tbb/jupyter_notebook/CPT_SS/百度文本相似度/Code\r\n"
     ]
    }
   ],
   "source": [
    "!pwd"
   ]
  },
  {
   "cell_type": "code",
   "execution_count": 4,
   "metadata": {},
   "outputs": [],
   "source": [
    "def read_tsv(input_file):\n",
    "    with open(input_file,\"r\",encoding=\"utf-8\") as file:\n",
    "        lines = []\n",
    "        for line in file:\n",
    "            if len(line.strip().split(\"\\t\")) >1:\n",
    "                lines.append(line.strip().split(\"\\t\"))\n",
    "        df = pd.DataFrame(lines)\n",
    "    return df\n",
    "\n",
    "def traversal(rootdir):\n",
    "    train = pd.DataFrame()\n",
    "    dev = pd.DataFrame()\n",
    "    test = pd.DataFrame()\n",
    "    for parent, dirnames, filenames in os.walk(rootdir):\n",
    "        for filename in filenames:\n",
    "            filenameFull = os.path.join(parent, filename)\n",
    "            if filenameFull.endswith('tsv'):\n",
    "                df = read_tsv(filenameFull)\n",
    "                if filename.startswith(\"train.tsv\"):\n",
    "                    train = pd.concat([train,df],axis = 0)\n",
    "                elif filename.startswith(\"dev.tsv\"):\n",
    "                    dev = pd.concat([dev,df],axis = 0)\n",
    "                elif filename.startswith(\"test.tsv\"):\n",
    "                     test = pd.concat([test,df],axis = 0)\n",
    "    cols_dict=['sentence_a', 'sentence_b', 'similarity']\n",
    "    train.columns = cols_dict\n",
    "    dev.columns = cols_dict\n",
    "    test.columns = cols_dict[:2]\n",
    "    train['similarity'] = train['similarity'].astype(int)\n",
    "    dev['similarity'] = dev['similarity'].astype(int)\n",
    "    return train,dev,test"
   ]
  },
  {
   "cell_type": "code",
   "execution_count": 5,
   "metadata": {},
   "outputs": [],
   "source": [
    "train,dev,test=traversal(\"../Data/\")"
   ]
  },
  {
   "cell_type": "code",
   "execution_count": 7,
   "metadata": {},
   "outputs": [],
   "source": [
    "train=train.reset_index(drop=True)"
   ]
  },
  {
   "cell_type": "code",
   "execution_count": 8,
   "metadata": {},
   "outputs": [
    {
     "name": "stdout",
     "output_type": "stream",
     "text": [
      "<class 'pandas.core.frame.DataFrame'>\n",
      "RangeIndex: 387895 entries, 0 to 387894\n",
      "Data columns (total 3 columns):\n",
      " #   Column      Non-Null Count   Dtype \n",
      "---  ------      --------------   ----- \n",
      " 0   sentence_a  387895 non-null  object\n",
      " 1   sentence_b  387895 non-null  object\n",
      " 2   similarity  387895 non-null  int64 \n",
      "dtypes: int64(1), object(2)\n",
      "memory usage: 8.9+ MB\n"
     ]
    }
   ],
   "source": [
    "train.info()"
   ]
  },
  {
   "cell_type": "code",
   "execution_count": 12,
   "metadata": {},
   "outputs": [
    {
     "data": {
      "text/html": [
       "<div>\n",
       "<style scoped>\n",
       "    .dataframe tbody tr th:only-of-type {\n",
       "        vertical-align: middle;\n",
       "    }\n",
       "\n",
       "    .dataframe tbody tr th {\n",
       "        vertical-align: top;\n",
       "    }\n",
       "\n",
       "    .dataframe thead th {\n",
       "        text-align: right;\n",
       "    }\n",
       "</style>\n",
       "<table border=\"1\" class=\"dataframe\">\n",
       "  <thead>\n",
       "    <tr style=\"text-align: right;\">\n",
       "      <th></th>\n",
       "      <th>sentence_a</th>\n",
       "      <th>sentence_b</th>\n",
       "      <th>similarity</th>\n",
       "    </tr>\n",
       "  </thead>\n",
       "  <tbody>\n",
       "    <tr>\n",
       "      <th>387890</th>\n",
       "      <td>``我们的学校是精神和精神，热爱（时间路径）是我们的第一承诺''。</td>\n",
       "      <td>``我们的学校属于时间和精神，对Rehit的爱（精神之路）是我们的第一承诺。 “”</td>\n",
       "      <td>0</td>\n",
       "    </tr>\n",
       "    <tr>\n",
       "      <th>387891</th>\n",
       "      <td>她于6月24日在科克，并于7月8日抵达。</td>\n",
       "      <td>她于6月24日在科克，并于7月8日抵达唐斯。</td>\n",
       "      <td>1</td>\n",
       "    </tr>\n",
       "    <tr>\n",
       "      <th>387892</th>\n",
       "      <td>Cornelia Stuyvesant Vanderbilt（George和Edith Va...</td>\n",
       "      <td>John John F. A. Cecil（George和Cornelia Stuyvesa...</td>\n",
       "      <td>0</td>\n",
       "    </tr>\n",
       "    <tr>\n",
       "      <th>387893</th>\n",
       "      <td>第三季于2010年6月7日首播，第四季是混合情侣竞赛系统。</td>\n",
       "      <td>第四季于2010年6月7日首播。就像第三季一样，比赛系统是混合情侣。</td>\n",
       "      <td>0</td>\n",
       "    </tr>\n",
       "    <tr>\n",
       "      <th>387894</th>\n",
       "      <td>它也位于洛杉矶县大陆海岸的葡萄牙弯曲自然保护区，被称为加州帕洛斯佛得角半岛。</td>\n",
       "      <td>它也位于加利福尼亚大陆海岸的一个位置，位于洛杉矶县帕洛斯弗迪斯半岛的葡萄牙本德自然保护区。</td>\n",
       "      <td>0</td>\n",
       "    </tr>\n",
       "  </tbody>\n",
       "</table>\n",
       "</div>"
      ],
      "text/plain": [
       "                                               sentence_a  \\\n",
       "387890                  ``我们的学校是精神和精神，热爱（时间路径）是我们的第一承诺''。   \n",
       "387891                               她于6月24日在科克，并于7月8日抵达。   \n",
       "387892  Cornelia Stuyvesant Vanderbilt（George和Edith Va...   \n",
       "387893                      第三季于2010年6月7日首播，第四季是混合情侣竞赛系统。   \n",
       "387894             它也位于洛杉矶县大陆海岸的葡萄牙弯曲自然保护区，被称为加州帕洛斯佛得角半岛。   \n",
       "\n",
       "                                               sentence_b  similarity  \n",
       "387890          ``我们的学校属于时间和精神，对Rehit的爱（精神之路）是我们的第一承诺。 “”           0  \n",
       "387891                             她于6月24日在科克，并于7月8日抵达唐斯。           1  \n",
       "387892  John John F. A. Cecil（George和Cornelia Stuyvesa...           0  \n",
       "387893                 第四季于2010年6月7日首播。就像第三季一样，比赛系统是混合情侣。           0  \n",
       "387894      它也位于加利福尼亚大陆海岸的一个位置，位于洛杉矶县帕洛斯弗迪斯半岛的葡萄牙本德自然保护区。           0  "
      ]
     },
     "execution_count": 12,
     "metadata": {},
     "output_type": "execute_result"
    }
   ],
   "source": [
    "train.tail()"
   ]
  },
  {
   "cell_type": "code",
   "execution_count": 11,
   "metadata": {},
   "outputs": [
    {
     "data": {
      "text/plain": [
       "1    210258\n",
       "0    177637\n",
       "Name: similarity, dtype: int64"
      ]
     },
     "execution_count": 11,
     "metadata": {},
     "output_type": "execute_result"
    }
   ],
   "source": [
    "train.similarity.value_counts()"
   ]
  },
  {
   "cell_type": "code",
   "execution_count": 9,
   "metadata": {},
   "outputs": [],
   "source": [
    "train=train.sample(frac=1).reset_index(drop=True)"
   ]
  },
  {
   "cell_type": "code",
   "execution_count": 11,
   "metadata": {},
   "outputs": [
    {
     "data": {
      "text/html": [
       "<div>\n",
       "<style scoped>\n",
       "    .dataframe tbody tr th:only-of-type {\n",
       "        vertical-align: middle;\n",
       "    }\n",
       "\n",
       "    .dataframe tbody tr th {\n",
       "        vertical-align: top;\n",
       "    }\n",
       "\n",
       "    .dataframe thead th {\n",
       "        text-align: right;\n",
       "    }\n",
       "</style>\n",
       "<table border=\"1\" class=\"dataframe\">\n",
       "  <thead>\n",
       "    <tr style=\"text-align: right;\">\n",
       "      <th></th>\n",
       "      <th>sentence_a</th>\n",
       "      <th>sentence_b</th>\n",
       "      <th>similarity</th>\n",
       "    </tr>\n",
       "  </thead>\n",
       "  <tbody>\n",
       "    <tr>\n",
       "      <th>0</th>\n",
       "      <td>Ferintosh是卡姆罗斯市中心的一个村庄，位于加拿大艾伯塔省南部和埃德蒙顿东南部。</td>\n",
       "      <td>Ferintosh是加拿大阿尔伯塔省中部的一个村庄，位于加拿大卡姆罗斯以南和埃德蒙顿东南部。</td>\n",
       "      <td>0</td>\n",
       "    </tr>\n",
       "    <tr>\n",
       "      <th>1</th>\n",
       "      <td>这车是兰博基尼什么型号</td>\n",
       "      <td>这款兰博基尼是什么型号的</td>\n",
       "      <td>1</td>\n",
       "    </tr>\n",
       "    <tr>\n",
       "      <th>2</th>\n",
       "      <td>为什么不能主动分期还款。</td>\n",
       "      <td>为何每次都是提前还款，还不能提升额度？</td>\n",
       "      <td>0</td>\n",
       "    </tr>\n",
       "    <tr>\n",
       "      <th>3</th>\n",
       "      <td>Pennypacker出生于纽约南安普敦，在二十世纪之后不久搬到宾夕法尼亚州，然后搬到长岛的...</td>\n",
       "      <td>Pennypacker出生于纽约南安普敦，20世纪初转移到宾夕法尼亚州，然后搬到长岛的纽约市。</td>\n",
       "      <td>1</td>\n",
       "    </tr>\n",
       "    <tr>\n",
       "      <th>4</th>\n",
       "      <td>您好，请问招商银行日提现限额是多少？</td>\n",
       "      <td>转出额度</td>\n",
       "      <td>1</td>\n",
       "    </tr>\n",
       "    <tr>\n",
       "      <th>...</th>\n",
       "      <td>...</td>\n",
       "      <td>...</td>\n",
       "      <td>...</td>\n",
       "    </tr>\n",
       "    <tr>\n",
       "      <th>387890</th>\n",
       "      <td>2017年亚洲室内和武术比赛的电子运动是一项示范运动。</td>\n",
       "      <td>对于2017年亚洲电子和武术比赛室内 - 运动是一项示范运动。</td>\n",
       "      <td>0</td>\n",
       "    </tr>\n",
       "    <tr>\n",
       "      <th>387891</th>\n",
       "      <td>龟头如何降低敏感度</td>\n",
       "      <td>怎样降低龟头敏感度啊？</td>\n",
       "      <td>1</td>\n",
       "    </tr>\n",
       "    <tr>\n",
       "      <th>387892</th>\n",
       "      <td>小年夜是什么时候</td>\n",
       "      <td>小年夜，大家在做什么？</td>\n",
       "      <td>0</td>\n",
       "    </tr>\n",
       "    <tr>\n",
       "      <th>387893</th>\n",
       "      <td>一个女孩问我?我的心里她该怎么走是什么意思</td>\n",
       "      <td>她心里想的是什么意思，她似乎想对我说什么，</td>\n",
       "      <td>0</td>\n",
       "    </tr>\n",
       "    <tr>\n",
       "      <th>387894</th>\n",
       "      <td>什么时候能够知道贷款是否成功</td>\n",
       "      <td>什么时候可以贷款给我</td>\n",
       "      <td>1</td>\n",
       "    </tr>\n",
       "  </tbody>\n",
       "</table>\n",
       "<p>387895 rows × 3 columns</p>\n",
       "</div>"
      ],
      "text/plain": [
       "                                               sentence_a  \\\n",
       "0             Ferintosh是卡姆罗斯市中心的一个村庄，位于加拿大艾伯塔省南部和埃德蒙顿东南部。   \n",
       "1                                             这车是兰博基尼什么型号   \n",
       "2                                            为什么不能主动分期还款。   \n",
       "3       Pennypacker出生于纽约南安普敦，在二十世纪之后不久搬到宾夕法尼亚州，然后搬到长岛的...   \n",
       "4                                      您好，请问招商银行日提现限额是多少？   \n",
       "...                                                   ...   \n",
       "387890                        2017年亚洲室内和武术比赛的电子运动是一项示范运动。   \n",
       "387891                                          龟头如何降低敏感度   \n",
       "387892                                           小年夜是什么时候   \n",
       "387893                              一个女孩问我?我的心里她该怎么走是什么意思   \n",
       "387894                                     什么时候能够知道贷款是否成功   \n",
       "\n",
       "                                             sentence_b  similarity  \n",
       "0        Ferintosh是加拿大阿尔伯塔省中部的一个村庄，位于加拿大卡姆罗斯以南和埃德蒙顿东南部。           0  \n",
       "1                                          这款兰博基尼是什么型号的           1  \n",
       "2                                   为何每次都是提前还款，还不能提升额度？           0  \n",
       "3       Pennypacker出生于纽约南安普敦，20世纪初转移到宾夕法尼亚州，然后搬到长岛的纽约市。           1  \n",
       "4                                                  转出额度           1  \n",
       "...                                                 ...         ...  \n",
       "387890                  对于2017年亚洲电子和武术比赛室内 - 运动是一项示范运动。           0  \n",
       "387891                                      怎样降低龟头敏感度啊？           1  \n",
       "387892                                      小年夜，大家在做什么？           0  \n",
       "387893                            她心里想的是什么意思，她似乎想对我说什么，           0  \n",
       "387894                                       什么时候可以贷款给我           1  \n",
       "\n",
       "[387895 rows x 3 columns]"
      ]
     },
     "execution_count": 11,
     "metadata": {},
     "output_type": "execute_result"
    }
   ],
   "source": [
    "train"
   ]
  },
  {
   "cell_type": "code",
   "execution_count": 10,
   "metadata": {},
   "outputs": [
    {
     "data": {
      "text/html": [
       "<div>\n",
       "<style scoped>\n",
       "    .dataframe tbody tr th:only-of-type {\n",
       "        vertical-align: middle;\n",
       "    }\n",
       "\n",
       "    .dataframe tbody tr th {\n",
       "        vertical-align: top;\n",
       "    }\n",
       "\n",
       "    .dataframe thead th {\n",
       "        text-align: right;\n",
       "    }\n",
       "</style>\n",
       "<table border=\"1\" class=\"dataframe\">\n",
       "  <thead>\n",
       "    <tr style=\"text-align: right;\">\n",
       "      <th></th>\n",
       "      <th>sentence_a</th>\n",
       "      <th>sentence_b</th>\n",
       "      <th>similarity</th>\n",
       "    </tr>\n",
       "  </thead>\n",
       "  <tbody>\n",
       "    <tr>\n",
       "      <th>0</th>\n",
       "      <td>守护甜心第四季网址</td>\n",
       "      <td>守护甜心第四季漫画版</td>\n",
       "      <td>0</td>\n",
       "    </tr>\n",
       "    <tr>\n",
       "      <th>1</th>\n",
       "      <td>“魔鬼的青春”（英文：The Devil's Youth）是一部1921年意大利无声电影，由...</td>\n",
       "      <td>魔鬼的年轻人（意大利人：魔鬼的青年）是一部意大利无声电影，由弗朗西斯卡·贝尔蒂尼和罗伯托·罗...</td>\n",
       "      <td>1</td>\n",
       "    </tr>\n",
       "    <tr>\n",
       "      <th>2</th>\n",
       "      <td>淘宝年度对账单怎么看</td>\n",
       "      <td>淘宝怎么看年度账单</td>\n",
       "      <td>1</td>\n",
       "    </tr>\n",
       "    <tr>\n",
       "      <th>3</th>\n",
       "      <td>2次电话没接到</td>\n",
       "      <td>一直没有接到审核电话</td>\n",
       "      <td>1</td>\n",
       "    </tr>\n",
       "    <tr>\n",
       "      <th>4</th>\n",
       "      <td>2001年的马克华纳和2004年的约翰克里劳顿和威廉王子都失去了县。</td>\n",
       "      <td>2001年的约翰克里和2004年的马克华纳都失去了劳登和威廉王子县。</td>\n",
       "      <td>0</td>\n",
       "    </tr>\n",
       "    <tr>\n",
       "      <th>...</th>\n",
       "      <td>...</td>\n",
       "      <td>...</td>\n",
       "      <td>...</td>\n",
       "    </tr>\n",
       "    <tr>\n",
       "      <th>385890</th>\n",
       "      <td>这个不影响到账的</td>\n",
       "      <td>这个是不有影响的</td>\n",
       "      <td>1</td>\n",
       "    </tr>\n",
       "    <tr>\n",
       "      <th>385891</th>\n",
       "      <td>这个QQ表情的人物叫什么？</td>\n",
       "      <td>这个QQ表情人物叫什么？</td>\n",
       "      <td>1</td>\n",
       "    </tr>\n",
       "    <tr>\n",
       "      <th>385892</th>\n",
       "      <td>一路向西哪里有的看</td>\n",
       "      <td>一路向西讲什么的，哪里能看</td>\n",
       "      <td>1</td>\n",
       "    </tr>\n",
       "    <tr>\n",
       "      <th>385893</th>\n",
       "      <td>找一部美国科幻电影</td>\n",
       "      <td>求一部美国科幻电影</td>\n",
       "      <td>1</td>\n",
       "    </tr>\n",
       "    <tr>\n",
       "      <th>385894</th>\n",
       "      <td>怎么报考营养师</td>\n",
       "      <td>怎样报考营养师</td>\n",
       "      <td>1</td>\n",
       "    </tr>\n",
       "  </tbody>\n",
       "</table>\n",
       "<p>385895 rows × 3 columns</p>\n",
       "</div>"
      ],
      "text/plain": [
       "                                               sentence_a  \\\n",
       "0                                               守护甜心第四季网址   \n",
       "1       “魔鬼的青春”（英文：The Devil's Youth）是一部1921年意大利无声电影，由...   \n",
       "2                                              淘宝年度对账单怎么看   \n",
       "3                                                 2次电话没接到   \n",
       "4                      2001年的马克华纳和2004年的约翰克里劳顿和威廉王子都失去了县。   \n",
       "...                                                   ...   \n",
       "385890                                           这个不影响到账的   \n",
       "385891                                      这个QQ表情的人物叫什么？   \n",
       "385892                                          一路向西哪里有的看   \n",
       "385893                                          找一部美国科幻电影   \n",
       "385894                                            怎么报考营养师   \n",
       "\n",
       "                                               sentence_b  similarity  \n",
       "0                                              守护甜心第四季漫画版           0  \n",
       "1       魔鬼的年轻人（意大利人：魔鬼的青年）是一部意大利无声电影，由弗朗西斯卡·贝尔蒂尼和罗伯托·罗...           1  \n",
       "2                                               淘宝怎么看年度账单           1  \n",
       "3                                              一直没有接到审核电话           1  \n",
       "4                      2001年的约翰克里和2004年的马克华纳都失去了劳登和威廉王子县。           0  \n",
       "...                                                   ...         ...  \n",
       "385890                                           这个是不有影响的           1  \n",
       "385891                                       这个QQ表情人物叫什么？           1  \n",
       "385892                                      一路向西讲什么的，哪里能看           1  \n",
       "385893                                          求一部美国科幻电影           1  \n",
       "385894                                            怎样报考营养师           1  \n",
       "\n",
       "[385895 rows x 3 columns]"
      ]
     },
     "execution_count": 10,
     "metadata": {},
     "output_type": "execute_result"
    }
   ],
   "source": [
    "df_train = train.iloc[2000:,:].reset_index(drop = True)\n",
    "df_val = train.iloc[:2000,:].reset_index(drop = True)\n",
    "df_train"
   ]
  },
  {
   "cell_type": "code",
   "execution_count": 14,
   "metadata": {},
   "outputs": [
    {
     "data": {
      "text/html": [
       "<div>\n",
       "<style scoped>\n",
       "    .dataframe tbody tr th:only-of-type {\n",
       "        vertical-align: middle;\n",
       "    }\n",
       "\n",
       "    .dataframe tbody tr th {\n",
       "        vertical-align: top;\n",
       "    }\n",
       "\n",
       "    .dataframe thead th {\n",
       "        text-align: right;\n",
       "    }\n",
       "</style>\n",
       "<table border=\"1\" class=\"dataframe\">\n",
       "  <thead>\n",
       "    <tr style=\"text-align: right;\">\n",
       "      <th></th>\n",
       "      <th>sentence_a</th>\n",
       "      <th>sentence_b</th>\n",
       "      <th>similarity</th>\n",
       "    </tr>\n",
       "  </thead>\n",
       "  <tbody>\n",
       "    <tr>\n",
       "      <th>0</th>\n",
       "      <td>无语是什么意思啊</td>\n",
       "      <td>无语什么意思</td>\n",
       "      <td>1</td>\n",
       "    </tr>\n",
       "    <tr>\n",
       "      <th>1</th>\n",
       "      <td>1960年1月1日，Highveld军团在米德尔堡成立，后者还在内尔斯普雷特镇驻扎了一个后方总部。</td>\n",
       "      <td>军团Highveld于1960年1月1日在米德尔堡成立，它还在内尔斯普雷特镇驻扎了一个后方总部。</td>\n",
       "      <td>1</td>\n",
       "    </tr>\n",
       "    <tr>\n",
       "      <th>2</th>\n",
       "      <td>还有像我的世界一样的游戏吗？</td>\n",
       "      <td>我的世界游戏中的蛋有什么用</td>\n",
       "      <td>0</td>\n",
       "    </tr>\n",
       "    <tr>\n",
       "      <th>3</th>\n",
       "      <td>极品钢琴中是怎么成为情侣的？</td>\n",
       "      <td>怎么在安卓极品钢琴里面添加歌曲?</td>\n",
       "      <td>0</td>\n",
       "    </tr>\n",
       "    <tr>\n",
       "      <th>4</th>\n",
       "      <td>电话已更换了</td>\n",
       "      <td>如何更改接收验证码手机号</td>\n",
       "      <td>1</td>\n",
       "    </tr>\n",
       "    <tr>\n",
       "      <th>...</th>\n",
       "      <td>...</td>\n",
       "      <td>...</td>\n",
       "      <td>...</td>\n",
       "    </tr>\n",
       "    <tr>\n",
       "      <th>385890</th>\n",
       "      <td>2017年亚洲室内和武术比赛的电子运动是一项示范运动。</td>\n",
       "      <td>对于2017年亚洲电子和武术比赛室内 - 运动是一项示范运动。</td>\n",
       "      <td>0</td>\n",
       "    </tr>\n",
       "    <tr>\n",
       "      <th>385891</th>\n",
       "      <td>龟头如何降低敏感度</td>\n",
       "      <td>怎样降低龟头敏感度啊？</td>\n",
       "      <td>1</td>\n",
       "    </tr>\n",
       "    <tr>\n",
       "      <th>385892</th>\n",
       "      <td>小年夜是什么时候</td>\n",
       "      <td>小年夜，大家在做什么？</td>\n",
       "      <td>0</td>\n",
       "    </tr>\n",
       "    <tr>\n",
       "      <th>385893</th>\n",
       "      <td>一个女孩问我?我的心里她该怎么走是什么意思</td>\n",
       "      <td>她心里想的是什么意思，她似乎想对我说什么，</td>\n",
       "      <td>0</td>\n",
       "    </tr>\n",
       "    <tr>\n",
       "      <th>385894</th>\n",
       "      <td>什么时候能够知道贷款是否成功</td>\n",
       "      <td>什么时候可以贷款给我</td>\n",
       "      <td>1</td>\n",
       "    </tr>\n",
       "  </tbody>\n",
       "</table>\n",
       "<p>385895 rows × 3 columns</p>\n",
       "</div>"
      ],
      "text/plain": [
       "                                               sentence_a  \\\n",
       "0                                                无语是什么意思啊   \n",
       "1       1960年1月1日，Highveld军团在米德尔堡成立，后者还在内尔斯普雷特镇驻扎了一个后方总部。   \n",
       "2                                          还有像我的世界一样的游戏吗？   \n",
       "3                                          极品钢琴中是怎么成为情侣的？   \n",
       "4                                                  电话已更换了   \n",
       "...                                                   ...   \n",
       "385890                        2017年亚洲室内和武术比赛的电子运动是一项示范运动。   \n",
       "385891                                          龟头如何降低敏感度   \n",
       "385892                                           小年夜是什么时候   \n",
       "385893                              一个女孩问我?我的心里她该怎么走是什么意思   \n",
       "385894                                     什么时候能够知道贷款是否成功   \n",
       "\n",
       "                                              sentence_b  similarity  \n",
       "0                                                 无语什么意思           1  \n",
       "1       军团Highveld于1960年1月1日在米德尔堡成立，它还在内尔斯普雷特镇驻扎了一个后方总部。           1  \n",
       "2                                          我的世界游戏中的蛋有什么用           0  \n",
       "3                                       怎么在安卓极品钢琴里面添加歌曲?           0  \n",
       "4                                           如何更改接收验证码手机号           1  \n",
       "...                                                  ...         ...  \n",
       "385890                   对于2017年亚洲电子和武术比赛室内 - 运动是一项示范运动。           0  \n",
       "385891                                       怎样降低龟头敏感度啊？           1  \n",
       "385892                                       小年夜，大家在做什么？           0  \n",
       "385893                             她心里想的是什么意思，她似乎想对我说什么，           0  \n",
       "385894                                        什么时候可以贷款给我           1  \n",
       "\n",
       "[385895 rows x 3 columns]"
      ]
     },
     "execution_count": 14,
     "metadata": {},
     "output_type": "execute_result"
    }
   ],
   "source": [
    "df_train"
   ]
  },
  {
   "cell_type": "code",
   "execution_count": 11,
   "metadata": {},
   "outputs": [],
   "source": [
    "def read_data(dataframe):\n",
    "    lst = []\n",
    "    for index, row in dataframe.iterrows():\n",
    "        s0 = row['sentence_a']\n",
    "        s1 = row['sentence_b']\n",
    "        sim = row['similarity']\n",
    "        lst.append((s0,s1,sim))\n",
    "    return lst"
   ]
  },
  {
   "cell_type": "code",
   "execution_count": 12,
   "metadata": {},
   "outputs": [],
   "source": [
    "lst_train = read_data(df_train)\n",
    "lst_val = read_data(df_val)\n",
    "lst_test = read_data(dev)"
   ]
  },
  {
   "cell_type": "code",
   "execution_count": 27,
   "metadata": {},
   "outputs": [
    {
     "data": {
      "text/plain": [
       "('不要借了我是试试看能否操作的', '借款审核期间能否取消借款', 0)"
      ]
     },
     "execution_count": 27,
     "metadata": {},
     "output_type": "execute_result"
    }
   ],
   "source": [
    "lst_test[0]"
   ]
  },
  {
   "cell_type": "code",
   "execution_count": 30,
   "metadata": {},
   "outputs": [
    {
     "data": {
      "text/html": [
       "<div>\n",
       "<style scoped>\n",
       "    .dataframe tbody tr th:only-of-type {\n",
       "        vertical-align: middle;\n",
       "    }\n",
       "\n",
       "    .dataframe tbody tr th {\n",
       "        vertical-align: top;\n",
       "    }\n",
       "\n",
       "    .dataframe thead th {\n",
       "        text-align: right;\n",
       "    }\n",
       "</style>\n",
       "<table border=\"1\" class=\"dataframe\">\n",
       "  <thead>\n",
       "    <tr style=\"text-align: right;\">\n",
       "      <th></th>\n",
       "      <th>sentence_a</th>\n",
       "      <th>sentence_b</th>\n",
       "    </tr>\n",
       "  </thead>\n",
       "  <tbody>\n",
       "    <tr>\n",
       "      <th>0</th>\n",
       "      <td>为什么我无法看到额度</td>\n",
       "      <td>为什么开通了却没有额度</td>\n",
       "    </tr>\n",
       "    <tr>\n",
       "      <th>1</th>\n",
       "      <td>为啥换不了</td>\n",
       "      <td>为两次还都提示失败呢</td>\n",
       "    </tr>\n",
       "    <tr>\n",
       "      <th>2</th>\n",
       "      <td>借了钱，但还没有通过，可以取消吗？</td>\n",
       "      <td>可否取消</td>\n",
       "    </tr>\n",
       "    <tr>\n",
       "      <th>3</th>\n",
       "      <td>为什么我申请额度输入密码就一直是那个页面</td>\n",
       "      <td>为什么要输入支付密码来验证</td>\n",
       "    </tr>\n",
       "    <tr>\n",
       "      <th>4</th>\n",
       "      <td>今天借明天还款可以？</td>\n",
       "      <td>今天借明天还要手续费吗</td>\n",
       "    </tr>\n",
       "    <tr>\n",
       "      <th>...</th>\n",
       "      <td>...</td>\n",
       "      <td>...</td>\n",
       "    </tr>\n",
       "    <tr>\n",
       "      <th>1995</th>\n",
       "      <td>《土地贝西之地》是贝西伯爵及其 1964 年管弦乐队的录音室专辑，该专辑的音乐由比利·拜尔斯...</td>\n",
       "      <td>《土地贝西之地》是比利·拜尔斯及其管弦乐队在 1964 年录制的录音室专辑，由贝西伯爵作曲和编曲。</td>\n",
       "    </tr>\n",
       "    <tr>\n",
       "      <th>1996</th>\n",
       "      <td>他们的任务是保护各种太空前哨不受敌舰群的攻击。</td>\n",
       "      <td>他们的使命是保护各个前哨免受敌人舰队的攻击。</td>\n",
       "    </tr>\n",
       "    <tr>\n",
       "      <th>1997</th>\n",
       "      <td>他的母亲伊丽莎白这边有康沃尔公国大法官威廉·莫当特爵士，以及民事诉讼法院首席书记约翰·莫当特。</td>\n",
       "      <td>他的母亲这边有康沃尔公国大法官伊丽莎白·威廉·莫当特爵士，以及民事诉讼法院首席书记约翰·莫当特。</td>\n",
       "    </tr>\n",
       "    <tr>\n",
       "      <th>1998</th>\n",
       "      <td>2014 年，该网站推出了用于搜索产品的 iOS 和 Android 应用程序；产品特色包括...</td>\n",
       "      <td>2014 年推出网站 iOS 和安卓应用程序，用于产品搜索，产品功能包括交互式视频 - 产品...</td>\n",
       "    </tr>\n",
       "    <tr>\n",
       "      <th>1999</th>\n",
       "      <td>在另一个方向上，假设 \"m\" 通过准素分解是最强大的</td>\n",
       "      <td>在另一个方向，假设“m”是质数，具有强大的因子分解。</td>\n",
       "    </tr>\n",
       "  </tbody>\n",
       "</table>\n",
       "<p>24500 rows × 2 columns</p>\n",
       "</div>"
      ],
      "text/plain": [
       "                                             sentence_a  \\\n",
       "0                                            为什么我无法看到额度   \n",
       "1                                                 为啥换不了   \n",
       "2                                     借了钱，但还没有通过，可以取消吗？   \n",
       "3                                  为什么我申请额度输入密码就一直是那个页面   \n",
       "4                                            今天借明天还款可以？   \n",
       "...                                                 ...   \n",
       "1995  《土地贝西之地》是贝西伯爵及其 1964 年管弦乐队的录音室专辑，该专辑的音乐由比利·拜尔斯...   \n",
       "1996                            他们的任务是保护各种太空前哨不受敌舰群的攻击。   \n",
       "1997    他的母亲伊丽莎白这边有康沃尔公国大法官威廉·莫当特爵士，以及民事诉讼法院首席书记约翰·莫当特。   \n",
       "1998  2014 年，该网站推出了用于搜索产品的 iOS 和 Android 应用程序；产品特色包括...   \n",
       "1999                         在另一个方向上，假设 \"m\" 通过准素分解是最强大的   \n",
       "\n",
       "                                             sentence_b  \n",
       "0                                           为什么开通了却没有额度  \n",
       "1                                            为两次还都提示失败呢  \n",
       "2                                                  可否取消  \n",
       "3                                         为什么要输入支付密码来验证  \n",
       "4                                           今天借明天还要手续费吗  \n",
       "...                                                 ...  \n",
       "1995  《土地贝西之地》是比利·拜尔斯及其管弦乐队在 1964 年录制的录音室专辑，由贝西伯爵作曲和编曲。  \n",
       "1996                             他们的使命是保护各个前哨免受敌人舰队的攻击。  \n",
       "1997   他的母亲这边有康沃尔公国大法官伊丽莎白·威廉·莫当特爵士，以及民事诉讼法院首席书记约翰·莫当特。  \n",
       "1998  2014 年推出网站 iOS 和安卓应用程序，用于产品搜索，产品功能包括交互式视频 - 产品...  \n",
       "1999                         在另一个方向，假设“m”是质数，具有强大的因子分解。  \n",
       "\n",
       "[24500 rows x 2 columns]"
      ]
     },
     "execution_count": 30,
     "metadata": {},
     "output_type": "execute_result"
    }
   ],
   "source": [
    "test"
   ]
  },
  {
   "cell_type": "code",
   "execution_count": 13,
   "metadata": {},
   "outputs": [],
   "source": [
    "class InputFeature(object):\n",
    "    def __init__(self,input_ids,position_ids,token_type_ids,\n",
    "                lm_labels=None,input_len=None):\n",
    "        \n",
    "        self.input_ids = input_ids\n",
    "        self.position_ids = position_ids\n",
    "        self.token_type_ids = token_type_ids\n",
    "        self.lm_labels =lm_labels\n",
    "        if input_len is None:\n",
    "            self.input_len = len(input_ids)\n",
    "        else:\n",
    "            self.input_len = input_len"
   ]
  },
  {
   "cell_type": "code",
   "execution_count": 14,
   "metadata": {},
   "outputs": [],
   "source": [
    "class BertDataset(Dataset):\n",
    "    \n",
    "    def __init__(self,sentence_lst,max_len = 512):\n",
    "        self.max_len = max_lena\n",
    "        self.features = BertDataset.build_input_feature(sentence_lst)\n",
    "    \n",
    "    def __getitem__(self,i):\n",
    "        feat_dict = self.features[i]\n",
    "        if self.max_len is not None and feat_dict['input_len'] > self.max_len:\n",
    "            feat_dict['input_ids'] = feat_dict['input_dis'][-self.max_len:]\n",
    "            feat_dict['position_ids'] = feat_dict['position_ids'][-self.max_len:]\n",
    "            feat_dict['token_type_ids'] = feat_dict['token_type_ids'][-self.max_len:]\n",
    "        feat = InputFeature(**feat_dict)\n",
    "        return feat\n",
    "    \n",
    "    def __len__(self):\n",
    "        return len(self.features)\n",
    "    \n",
    "    @staticmethod\n",
    "    def build_input_feature(sentence_lst,begin_text= '[CLS]',sep_text=\"[SEP]\"):\n",
    "        tokenizer = BertTokenizer.from_pretrained('hfl/chinese-bert-wwm')\n",
    "        feature = []\n",
    "        for data in sentence_lst:\n",
    "            inputs_sentence_0 = data[0]\n",
    "            inputs_sentence_1 = data[1]\n",
    "            inputs_0 = tokenizer.encode(begin_text+inputs_sentence_0,add_special_tokens=False)\n",
    "            inputs_1 = tokenizer.encode(sep_text + inputs_sentence_1,add_special_tokens=False)\n",
    "            len_inputs_0 = len(inputs_0)\n",
    "            len_inputs_1 = len(inputs_1)\n",
    "            inputs = inputs_0 + inputs_1\n",
    "            len_inputs= len(inputs)\n",
    "            \n",
    "            lm_labels = data[2]\n",
    "            assert len_inputs_0 + len_inputs_1 == len_inputs\n",
    "            token_type_ids = [0] * len_inputs_0 + [1] * len_inputs_1\n",
    "            input_ids = inputs\n",
    "            input_len = len_inputs\n",
    "            position_ids = list(range(len(input_ids)))\n",
    "            \n",
    "            feat_dict = {'input_ids':input_ids,\n",
    "                        'position_ids':position_ids,\n",
    "                        'token_type_ids':token_type_ids,\n",
    "                        'lm_labels':lm_labels,\n",
    "                        'input_len':input_len}\n",
    "            feature.append(feat_dict)\n",
    "        return feature\n",
    "    \n",
    "    @staticmethod\n",
    "    def collate(features):\n",
    "        inputs_ids = pad_sequence([torch.tensor(f['input_ids'],dtype=torch.long)\n",
    "                                  for f in features],batch_first=True,padding_value=0)\n",
    "        \n",
    "        position_ids = pad_sequence([torch.tensor(f['position_ids'],dtype=torch.long)\n",
    "                                   for f in features],batch_first=True,padding_value=0)\n",
    "        \n",
    "        token_type_ids = pad_sequence([torch.tensor(f['token_type_ids'],dtype=torch.long)\n",
    "                                      for f in features],batch_first=True,padding_value=0)\n",
    "        \n",
    "        labels = torch.tensor([torch.tensor(f['lm_labels'],dtype=torch.long) for f in features])\n",
    "        \n",
    "        return (inputs_ids,position_ids,token_type_ids,labels)"
   ]
  },
  {
   "cell_type": "code",
   "execution_count": 15,
   "metadata": {},
   "outputs": [],
   "source": [
    "dataset_train= BertDataset.build_input_feature(lst_train)\n",
    "dataset_val= BertDataset.build_input_feature(lst_val)\n",
    "dataset_test= BertDataset.build_input_feature(lst_test)"
   ]
  },
  {
   "cell_type": "code",
   "execution_count": 37,
   "metadata": {},
   "outputs": [],
   "source": [
    "loader_train = DataLoader(dataset_train,collate_fn=BertDataset.collate,batch_size=500)\n",
    "loader_val = DataLoader(dataset_val,collate_fn=BertDataset.collate,batch_size=500)\n",
    "loader_test = DataLoader(dataset_test,collate_fn=BertDataset.collate,batch_size=500)"
   ]
  },
  {
   "cell_type": "code",
   "execution_count": 17,
   "metadata": {},
   "outputs": [],
   "source": [
    "import torch.nn as nn\n",
    "import torch.nn.functional as F\n",
    "\n",
    "\n",
    "class Net(nn.Module):\n",
    "    def __init__(self):\n",
    "        super(Net, self).__init__()\n",
    "        self.trans= BertModel.from_pretrained(\"hfl/chinese-bert-wwm\")\n",
    "        for p in self.parameters():\n",
    "            p.requires_grad = True\n",
    "        self.norm = nn.LayerNorm(768)\n",
    "        self.fc = nn.Linear(768, 50)\n",
    "        self.tanh = nn.ReLU()\n",
    "        self.fc2  = nn.Linear(50,2)\n",
    "        #self.sig = nn.Sigmoid()\n",
    "    def forward(self, input_ids=None, token_type_ids=None, position_ids=None):\n",
    "        x = self.trans(input_ids=input_ids, token_type_ids=token_type_ids,position_ids=position_ids)\n",
    "        x= self.norm(torch.mean(x[0],dim=1,keepdim=True)).squeeze_(1)\n",
    "        #print(x.size())\n",
    "        x = self.tanh(self.fc(x))\n",
    "        x =self.fc2(x)\n",
    "        return x\n",
    "\n",
    "\n",
    "net = Net()"
   ]
  },
  {
   "cell_type": "code",
   "execution_count": null,
   "metadata": {},
   "outputs": [],
   "source": [
    "def val_lossF(net, device, criterion, dataloader):\n",
    "    net.eval()\n",
    "    mean_loss = 0\n",
    "    count = 0\n",
    "    true_labelss = []\n",
    "    list_val_outputs = []\n",
    "    val_metric = 0\n",
    "    \n",
    "    with torch.no_grad():\n",
    "        for  i, (token_ids1, attn_masks1, token_type_ids1,token_ids2, attn_masks2, token_type_ids2,labels) in enumerate(dataloader):\n",
    "            token_ids1, attn_masks1, token_type_ids1 = token_ids1.to(device), attn_masks1.to(device), token_type_ids1.to(device)\n",
    "            token_ids2, attn_masks2, token_type_ids2 = token_ids2.to(device), attn_masks2.to(device), token_type_ids2.to(device)\n",
    "            labels = labels.to(device)\n",
    "            \n",
    "            val_output = net(token_ids1, attn_masks1, token_type_ids1,token_ids2, attn_masks2, token_type_ids2)\n",
    "            mean_loss += criterion(val_output, labels.float()).item()\n",
    "            count += 1\n",
    "\n",
    "            val_outputs = val_output.sigmoid().cpu().numpy()\n",
    "            val_outputs = np.where(val_outputs>thres, 1, 0)\n",
    "            list_val_outputs += val_outputs.tolist()\n",
    "            labelss = labels.cpu().numpy()\n",
    "            true_labelss += labelss.tolist()  \n",
    "\n",
    "        val_metric = accuracy_score(list_val_outputs,true_labelss)       \n",
    "    return mean_loss / count, val_metric"
   ]
  },
  {
   "cell_type": "code",
   "execution_count": 18,
   "metadata": {},
   "outputs": [],
   "source": [
    "loss_lst=[]\n",
    "def run(model,train_dataloader,learning_rate,epoches):\n",
    "    model.to(\"cuda:0\")\n",
    "    ngpu=3\n",
    "    model = nn.DataParallel(model, [0,1,2])\n",
    "    #model.to(device)\n",
    "    optimizer = Adam(filter(lambda p: p.requires_grad, model.parameters()),lr=learning_rate)\n",
    "    running_loss = 0 \n",
    "    step = 0\n",
    "    epoch = 0 \n",
    "    back=5\n",
    "    pbar = tqdm(enumerate(train_dataloader),total=len(train_dataloader))\n",
    "    loss_function  = CrossEntropyLoss(reduction='mean')\n",
    "    while epoch < epoches:\n",
    "        bckcount=0\n",
    "        try:\n",
    "            with tqdm(enumerate(train_dataloader),total=len(train_dataloader)) as pbar:\n",
    "                for i,batch in pbar:\n",
    "                    input_ids,position_ids,token_type_ids,label_ids = batch\n",
    "                    logits = model(input_ids=input_ids.cuda(),position_ids=position_ids.cuda(),token_type_ids=token_type_ids.cuda())\n",
    "                    #print(type(input_ids))\n",
    "                    #(logits.size())\n",
    "                    #print(label_ids)\n",
    "                    loss = loss_function(logits.cuda(),label_ids.cuda())\n",
    "                    #print(\"UEsss\")\n",
    "                    #break\n",
    "                    #print(i)\n",
    "                    if i%100==0:\n",
    "                        loss_lst.append(loss.detach())\n",
    "                        #break\n",
    "                    running_loss += loss.item()\n",
    "                    pbar.set_description('Train (Epoch{}):{:.4f}'.format(epoch,running_loss/(step+1)))\n",
    "                    #bckcount+=1\n",
    "                    #if bckcount>=5:\n",
    "                    bckcount=0\n",
    "                    loss.backward()\n",
    "                    optimizer.step() # w = w +dw\n",
    "                    optimizer.zero_grad()# dw = 0\n",
    "                    step += 1\n",
    "                epoch += 1\n",
    "        except KeyboardInterrupt:\n",
    "            pbar.close()\n",
    "            raise\n",
    "        pbar.close()\n",
    "    import time\n",
    "    localtime = str(time.asctime( time.localtime(time.time()) ))\n",
    "    with open('al{}.pkl'.format(localtime),'wb') as f:        \n",
    "        \n",
    "        torch.save({'model':model.state_dict(),\n",
    "               'epoch':epoch},f)"
   ]
  },
  {
   "cell_type": "code",
   "execution_count": 22,
   "metadata": {},
   "outputs": [],
   "source": [
    "for param in net.trans.parameters():\n",
    "    #print(param.requires_grad)\n",
    "    param.requires_grad=False\n",
    "    #break"
   ]
  },
  {
   "cell_type": "code",
   "execution_count": 24,
   "metadata": {},
   "outputs": [
    {
     "name": "stderr",
     "output_type": "stream",
     "text": [
      "  0%|          | 0/772 [00:00<?, ?it/s]\n",
      "  0%|          | 0/772 [00:00<?, ?it/s]\u001b[A\n",
      "Train (Epoch0):0.6897: 100%|██████████| 772/772 [08:05<00:00,  1.65it/s]\n",
      "Train (Epoch1):0.6897: 100%|██████████| 772/772 [08:10<00:00,  1.56it/s]\n",
      "Train (Epoch2):0.6897: 100%|██████████| 772/772 [08:38<00:00,  1.65it/s]\n",
      "Train (Epoch3):0.6897: 100%|██████████| 772/772 [08:09<00:00,  1.66it/s]\n",
      "Train (Epoch4):0.6897: 100%|██████████| 772/772 [08:07<00:00,  1.66it/s]\n",
      "Train (Epoch5):0.6897: 100%|██████████| 772/772 [08:08<00:00,  1.66it/s]\n",
      "Train (Epoch6):0.6897: 100%|██████████| 772/772 [08:13<00:00,  1.62it/s]\n",
      "Train (Epoch7):0.6897: 100%|██████████| 772/772 [08:13<00:00,  1.66it/s]\n",
      "Train (Epoch8):0.6897: 100%|██████████| 772/772 [08:08<00:00,  1.66it/s]\n",
      "Train (Epoch9):0.6897: 100%|██████████| 772/772 [08:08<00:00,  1.66it/s]\n"
     ]
    }
   ],
   "source": [
    "run(net,loader_train,5e-5,10)"
   ]
  },
  {
   "cell_type": "code",
   "execution_count": 26,
   "metadata": {},
   "outputs": [],
   "source": [
    "torch.cuda.empty_cache()"
   ]
  },
  {
   "cell_type": "code",
   "execution_count": 27,
   "metadata": {},
   "outputs": [
    {
     "name": "stdout",
     "output_type": "stream",
     "text": [
      "CUDA可使用\n",
      "驱动为： cuda:0\n",
      "GPU型号：  GeForce RTX 2080 Ti\n"
     ]
    }
   ],
   "source": [
    "\n",
    "import torch\n",
    "flag = torch.cuda.is_available()\n",
    "if flag:\n",
    "    print(\"CUDA可使用\")\n",
    "else:\n",
    "    print(\"CUDA不可用\")\n",
    "\n",
    "ngpu= 1\n",
    "# Decide which device we want to run on\n",
    "device = torch.device(\"cuda:0\" if (torch.cuda.is_available() and ngpu > 0) else \"cpu\")\n",
    "print(\"驱动为：\",device)\n",
    "print(\"GPU型号： \",torch.cuda.get_device_name(0))\n"
   ]
  },
  {
   "cell_type": "code",
   "execution_count": 20,
   "metadata": {},
   "outputs": [],
   "source": [
    "import matplotlib.pyplot as plt"
   ]
  },
  {
   "cell_type": "code",
   "execution_count": 25,
   "metadata": {},
   "outputs": [
    {
     "data": {
      "text/plain": [
       "Text(0.5, 1.0, 'cost')"
      ]
     },
     "execution_count": 25,
     "metadata": {},
     "output_type": "execute_result"
    },
    {
     "data": {
      "image/png": "[encoded data removed]",
      "text/plain": [
       "<Figure size 432x288 with 1 Axes>"
      ]
     },
     "metadata": {
      "needs_background": "light"
     },
     "output_type": "display_data"
    }
   ],
   "source": [
    "plt.plot(range(len(loss_lst)), loss_lst)\n",
    "plt.legend([\"train\"])\n",
    "plt.title(\"cost\")"
   ]
  },
  {
   "cell_type": "code",
   "execution_count": 31,
   "metadata": {},
   "outputs": [],
   "source": [
    "test_lst = test.values.tolist()"
   ]
  },
  {
   "cell_type": "code",
   "execution_count": 32,
   "metadata": {},
   "outputs": [
    {
     "data": {
      "text/plain": [
       "['为什么我无法看到额度', '为什么开通了却没有额度']"
      ]
     },
     "execution_count": 32,
     "metadata": {},
     "output_type": "execute_result"
    }
   ],
   "source": [
    "test_lst[0]"
   ]
  },
  {
   "cell_type": "code",
   "execution_count": 36,
   "metadata": {},
   "outputs": [
    {
     "name": "stdout",
     "output_type": "stream",
     "text": [
      "cuda:0\n"
     ]
    }
   ],
   "source": [
    "print(next(net.parameters()).device)"
   ]
  },
  {
   "cell_type": "code",
   "execution_count": 50,
   "metadata": {},
   "outputs": [],
   "source": [
    "from sklearn.metrics import accuracy_score"
   ]
  },
  {
   "cell_type": "code",
   "execution_count": 51,
   "metadata": {},
   "outputs": [],
   "source": [
    "def val_acc(net, device, criterion, dataloader):\n",
    "    net.eval()\n",
    "    mean_loss = 0\n",
    "    count = 0\n",
    "    true_labelss = []\n",
    "    list_val_outputs = []\n",
    "    val_metric = 0\n",
    "    \n",
    "    with torch.no_grad(),tqdm(enumerate(loader_test),total=len(loader_test)) as pbar:\n",
    "        for  i, batch in enumerate(dataloader):\n",
    "            input_ids,position_ids,token_type_ids,label_ids = batch\n",
    "            input_ids,position_ids,token_type_ids,label_ids = input_ids.to(device),position_ids.to(device),token_type_ids.to(device),label_ids.to(device)\n",
    "            labels = label_ids.to(device)\n",
    "            val_output = net(input_ids=input_ids,position_ids=position_ids,token_type_ids=token_type_ids)\n",
    "            mean_loss += criterion(val_output, labels).item()\n",
    "            count += 1\n",
    "            pred = val_output.topk(1,dim=-1)[1].squeeze_().cpu().tolist()\n",
    "            list_val_outputs += pred\n",
    "            labelss = labels.cpu().numpy()\n",
    "            true_labelss += labelss.tolist()  \n",
    "\n",
    "        val_metric = accuracy_score(list_val_outputs,true_labelss)       \n",
    "    return mean_loss / count, val_metric"
   ]
  },
  {
   "cell_type": "code",
   "execution_count": null,
   "metadata": {},
   "outputs": [],
   "source": []
  },
  {
   "cell_type": "code",
   "execution_count": 52,
   "metadata": {},
   "outputs": [
    {
     "name": "stderr",
     "output_type": "stream",
     "text": [
      "  0%|          | 0/42 [00:00<?, ?it/s]\n"
     ]
    },
    {
     "data": {
      "text/plain": [
       "(0.7003146665436881, 0.49298144409191424)"
      ]
     },
     "execution_count": 52,
     "metadata": {},
     "output_type": "execute_result"
    }
   ],
   "source": [
    "val_acc(net,'cuda:0',CrossEntropyLoss(reduction='mean'),loader_test)"
   ]
  },
  {
   "cell_type": "code",
   "execution_count": null,
   "metadata": {},
   "outputs": [],
   "source": [
    "with tqdm(enumerate(loader_test),total=len(loader_test)) as pbar:\n",
    "    for i,batch in pbar:\n",
    "        input_ids,position_ids,token_type_ids,label_ids = batch\n",
    "        logits = model(input_ids=input_ids.cuda(),position_ids=position_ids.cuda(),token_type_ids=token_type_ids.cuda())\n",
    "        #print(type(input_ids))\n",
    "        #(logits.size())\n",
    "        #print(label_ids)\n",
    "        loss = loss_function(logits.cuda(),label_ids.cuda())\n",
    "        #print(\"UEsss\")\n",
    "        #break\n",
    "        #print(i)\n",
    "        if i%100==0:\n",
    "            loss_lst.append(loss.detach())\n",
    "            #break\n",
    "        running_loss += loss.item()\n",
    "        pbar.set_description('Train (Epoch{}):{:.4f}'.format(epoch,running_loss/(step+1)))\n",
    "        #bckcount+=1\n",
    "        #if bckcount>=5:\n",
    "        bckcount=0\n",
    "        loss.backward()\n",
    "        optimizer.step() # w = w +dw\n",
    "        optimizer.zero_grad()# dw = 0\n",
    "        step += 1\n"
   ]
  },
  {
   "cell_type": "code",
   "execution_count": null,
   "metadata": {},
   "outputs": [],
   "source": [
    "lst_test=[]\n",
    "for i,s in tqdm(enumerate(lst_df),total=len(lst_df)):\n",
    "    sen=s[1]\n",
    "    #print(sen)\n",
    "    score= net(torch.tensor(tokenizer.encode(sen)).to(device).unsqueeze_(0)).detach()\n",
    "    score = score.topk(1)\n",
    "    #print(score[1].item())\n",
    "    lst_test.append((i,dic2[score[1].item()]))"
   ]
  }
 ],
 "metadata": {
  "kernelspec": {
   "display_name": "Python 3",
   "language": "python",
   "name": "python3"
  },
  "language_info": {
   "codemirror_mode": {
    "name": "ipython",
    "version": 3
   },
   "file_extension": ".py",
   "mimetype": "text/x-python",
   "name": "python",
   "nbconvert_exporter": "python",
   "pygments_lexer": "ipython3",
   "version": "3.8.3"
  }
 },
 "nbformat": 4,
 "nbformat_minor": 4
}
